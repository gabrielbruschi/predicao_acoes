{
  "cells": [
    {
      "cell_type": "markdown",
      "metadata": {
        "id": "-k9XjlaFHhQu"
      },
      "source": [
        "ETL"
      ]
    },
    {
      "cell_type": "code",
      "execution_count": null,
      "metadata": {
        "id": "llvXqfrUHgic"
      },
      "outputs": [],
      "source": [
        "import pandas as pd #ler arquivos\n",
        "\n",
        "import numpy as np\n",
        "import pandas as pd"
      ]
    },
    {
      "cell_type": "code",
      "execution_count": null,
      "metadata": {
        "id": "QgvN5YQkQDPo"
      },
      "outputs": [],
      "source": [
        "def read_files(path, name_file, year_date, type_file):\n",
        "  _file = f'{path}{name_file}{year_date}.{type_file}'\n",
        "\n",
        "  colspecs = [(2, 10), #data pregao\n",
        "              (10,12), #codBDI\n",
        "              (12,24),\n",
        "              (27,39),\n",
        "              (56,69),\n",
        "              (69,82),\n",
        "              (82,95),\n",
        "              (108,121),\n",
        "              (152,170),\n",
        "              (170,188)\n",
        "  ]\n",
        "\n",
        "  names = ['data_pregao', 'codbdi', 'sigla_acao', 'nome_acao', 'preco_abertura',\n",
        "         'preco_maximo', 'preco_minimo', 'preco_fechamento', 'qtd_negocios', 'volume_negocio']    \n",
        "  print(_file)\n",
        "  df = pd.read_fwf(_file, colspecs = colspecs, names = names, skiprows = 1, ) #caminho do txt, .., pula a head do arquivo\n",
        "  \n",
        "  return df\n"
      ]
    },
    {
      "cell_type": "code",
      "execution_count": null,
      "metadata": {
        "id": "BC04sjgPR2UK"
      },
      "outputs": [],
      "source": [
        "#transformar campo em data, float, e eliminar quem nao for do lote padrao (2)\n",
        "\n",
        "#Filtrar Acoes\n",
        "def filter_stocks(df):\n",
        "  df = df [df['codbdi'] == 2] #filtar todos lotes que sejam padrao 2\n",
        "  df = df.drop(['codbdi'], 1) #agr excluo a coluna ja que nao preciso dela\n",
        "  df = df.drop(['nome_acao'], 1) #confirmar esse 1\n",
        "  df = df[df['sigla_acao'] == 'PETR4'] #filtro todas acoes da petrobras\n",
        "  return df"
      ]
    },
    {
      "cell_type": "code",
      "execution_count": null,
      "metadata": {
        "id": "zzZXUT4zSkJ6"
      },
      "outputs": [],
      "source": [
        "#Ajuste campo de data\n",
        "def parse_date(df):\n",
        "  df['data_pregao'] = pd.to_datetime(df['data_pregao'], format = '%Y-%m-%d')\n",
        "\n",
        "  return df"
      ]
    },
    {
      "cell_type": "code",
      "execution_count": null,
      "metadata": {
        "id": "rnI2x1JuS53k"
      },
      "outputs": [],
      "source": [
        "#Ajuste campos numericos, quero 2 casas decimais e passo o tipo float\n",
        "def parse_values(df):\n",
        "  df['preco_abertura'] = (df['preco_abertura'] / 100).astype(float)\n",
        "  df['preco_maximo'] = (df['preco_maximo'] / 100).astype(float)\n",
        "  df['preco_minimo'] = (df['preco_minimo'] / 100).astype(float)\n",
        "  df['preco_fechamento'] = (df['preco_fechamento'] / 100).astype(float)\n",
        "  \n",
        "  return df\n",
        "\n",
        "#df.dtypes"
      ]
    },
    {
      "cell_type": "code",
      "execution_count": null,
      "metadata": {
        "id": "71eZJB4zVJbT"
      },
      "outputs": [],
      "source": [
        "#Juntando os arquivos\n",
        "\n",
        "def concat_files(path, name_file, year_date, type_file, final_file):\n",
        "  \n",
        "  for i, y in enumerate(year_date):\n",
        "    df = read_files(path, name_file, y, type_file)\n",
        "    df = filter_stocks(df)\n",
        "    df = parse_date(df)\n",
        "    df = parse_values(df)\n",
        "\n",
        "    if i==0:\n",
        "      df_final = df\n",
        "    else:\n",
        "      df_final = pd.concat([df_final, df])\n",
        "    \n",
        "    df_final.to_csv(f'{path}//{final_file}', index=False) #index=false nao coloca um indice no meu arquivo, usa o indice do pregao"
      ]
    },
    {
      "cell_type": "code",
      "execution_count": null,
      "metadata": {
        "id": "IcqnZtmMTdq6"
      },
      "outputs": [],
      "source": [
        "#Executando programa de ETL\n",
        "\n",
        "year_date = ['2002', '2003', '2004', '2005', '2006', '2007', '2008', '2009', '2010', '2011','2012', \n",
        "             '2013', '2014', '2015', '2016', '2017', '2018', '2019', '2020', '2021', '2022']\n",
        "path=f'C:\\\\Users\\\\Gabriel\\\\Desktop\\\\Projeto_LSTM\\\\LSTM\\\\ETL\\\\Series_historicas\\\\'\n",
        "name_file='COTAHIST_A' #se num futuro mudar o nome do arquivo\n",
        "type_file='TXT'\n",
        "final_file='all_bovespa.csv'\n",
        "\n",
        "concat_files(path, name_file, year_date, type_file, final_file)"
      ]
    },
    {
      "cell_type": "code",
      "execution_count": null,
      "metadata": {
        "id": "_rI3O1P32ocT",
        "outputId": "d9f31d04-4816-4c1c-ada6-b03a319516a7"
      },
      "outputs": [
        {
          "data": {
            "text/html": [
              "<div>\n",
              "<style scoped>\n",
              "    .dataframe tbody tr th:only-of-type {\n",
              "        vertical-align: middle;\n",
              "    }\n",
              "\n",
              "    .dataframe tbody tr th {\n",
              "        vertical-align: top;\n",
              "    }\n",
              "\n",
              "    .dataframe thead th {\n",
              "        text-align: right;\n",
              "    }\n",
              "</style>\n",
              "<table border=\"1\" class=\"dataframe\">\n",
              "  <thead>\n",
              "    <tr style=\"text-align: right;\">\n",
              "      <th></th>\n",
              "      <th>data_pregao</th>\n",
              "      <th>sigla_acao</th>\n",
              "      <th>preco_abertura</th>\n",
              "      <th>preco_maximo</th>\n",
              "      <th>preco_minimo</th>\n",
              "      <th>preco_fechamento</th>\n",
              "      <th>qtd_negocios</th>\n",
              "      <th>volume_negocio</th>\n",
              "    </tr>\n",
              "  </thead>\n",
              "  <tbody>\n",
              "    <tr>\n",
              "      <th>0</th>\n",
              "      <td>2002-01-01</td>\n",
              "      <td>PETR4</td>\n",
              "      <td>6.39</td>\n",
              "      <td>6.39</td>\n",
              "      <td>6.39</td>\n",
              "      <td>6.39</td>\n",
              "      <td>3.186628</td>\n",
              "      <td>0.0</td>\n",
              "    </tr>\n",
              "    <tr>\n",
              "      <th>1</th>\n",
              "      <td>2002-01-02</td>\n",
              "      <td>PETR4</td>\n",
              "      <td>6.45</td>\n",
              "      <td>6.49</td>\n",
              "      <td>6.39</td>\n",
              "      <td>6.41</td>\n",
              "      <td>3.192857</td>\n",
              "      <td>23920000.0</td>\n",
              "    </tr>\n",
              "    <tr>\n",
              "      <th>2</th>\n",
              "      <td>2002-01-03</td>\n",
              "      <td>PETR4</td>\n",
              "      <td>6.49</td>\n",
              "      <td>6.50</td>\n",
              "      <td>6.42</td>\n",
              "      <td>6.45</td>\n",
              "      <td>3.214662</td>\n",
              "      <td>39043200.0</td>\n",
              "    </tr>\n",
              "    <tr>\n",
              "      <th>3</th>\n",
              "      <td>2002-01-04</td>\n",
              "      <td>PETR4</td>\n",
              "      <td>6.38</td>\n",
              "      <td>6.45</td>\n",
              "      <td>6.32</td>\n",
              "      <td>6.41</td>\n",
              "      <td>3.194726</td>\n",
              "      <td>21500800.0</td>\n",
              "    </tr>\n",
              "    <tr>\n",
              "      <th>4</th>\n",
              "      <td>2002-01-07</td>\n",
              "      <td>PETR4</td>\n",
              "      <td>6.38</td>\n",
              "      <td>6.60</td>\n",
              "      <td>6.38</td>\n",
              "      <td>6.55</td>\n",
              "      <td>3.264501</td>\n",
              "      <td>40406400.0</td>\n",
              "    </tr>\n",
              "    <tr>\n",
              "      <th>...</th>\n",
              "      <td>...</td>\n",
              "      <td>...</td>\n",
              "      <td>...</td>\n",
              "      <td>...</td>\n",
              "      <td>...</td>\n",
              "      <td>...</td>\n",
              "      <td>...</td>\n",
              "      <td>...</td>\n",
              "    </tr>\n",
              "    <tr>\n",
              "      <th>5093</th>\n",
              "      <td>2022-05-06</td>\n",
              "      <td>PETR4</td>\n",
              "      <td>32.69</td>\n",
              "      <td>33.12</td>\n",
              "      <td>31.90</td>\n",
              "      <td>33.06</td>\n",
              "      <td>33.060001</td>\n",
              "      <td>129570200.0</td>\n",
              "    </tr>\n",
              "    <tr>\n",
              "      <th>5094</th>\n",
              "      <td>2022-05-09</td>\n",
              "      <td>PETR4</td>\n",
              "      <td>32.70</td>\n",
              "      <td>33.04</td>\n",
              "      <td>32.06</td>\n",
              "      <td>32.16</td>\n",
              "      <td>32.160000</td>\n",
              "      <td>92314500.0</td>\n",
              "    </tr>\n",
              "    <tr>\n",
              "      <th>5095</th>\n",
              "      <td>2022-05-10</td>\n",
              "      <td>PETR4</td>\n",
              "      <td>32.36</td>\n",
              "      <td>32.85</td>\n",
              "      <td>32.20</td>\n",
              "      <td>32.44</td>\n",
              "      <td>32.439999</td>\n",
              "      <td>60330600.0</td>\n",
              "    </tr>\n",
              "    <tr>\n",
              "      <th>5096</th>\n",
              "      <td>2022-05-11</td>\n",
              "      <td>PETR4</td>\n",
              "      <td>32.78</td>\n",
              "      <td>33.91</td>\n",
              "      <td>32.69</td>\n",
              "      <td>33.57</td>\n",
              "      <td>33.570000</td>\n",
              "      <td>108895400.0</td>\n",
              "    </tr>\n",
              "    <tr>\n",
              "      <th>5097</th>\n",
              "      <td>2022-05-12</td>\n",
              "      <td>PETR4</td>\n",
              "      <td>33.26</td>\n",
              "      <td>34.08</td>\n",
              "      <td>33.26</td>\n",
              "      <td>33.83</td>\n",
              "      <td>33.830002</td>\n",
              "      <td>114415900.0</td>\n",
              "    </tr>\n",
              "  </tbody>\n",
              "</table>\n",
              "<p>5098 rows × 8 columns</p>\n",
              "</div>"
            ],
            "text/plain": [
              "     data_pregao sigla_acao  preco_abertura  preco_maximo  preco_minimo  \\\n",
              "0     2002-01-01      PETR4            6.39          6.39          6.39   \n",
              "1     2002-01-02      PETR4            6.45          6.49          6.39   \n",
              "2     2002-01-03      PETR4            6.49          6.50          6.42   \n",
              "3     2002-01-04      PETR4            6.38          6.45          6.32   \n",
              "4     2002-01-07      PETR4            6.38          6.60          6.38   \n",
              "...          ...        ...             ...           ...           ...   \n",
              "5093  2022-05-06      PETR4           32.69         33.12         31.90   \n",
              "5094  2022-05-09      PETR4           32.70         33.04         32.06   \n",
              "5095  2022-05-10      PETR4           32.36         32.85         32.20   \n",
              "5096  2022-05-11      PETR4           32.78         33.91         32.69   \n",
              "5097  2022-05-12      PETR4           33.26         34.08         33.26   \n",
              "\n",
              "      preco_fechamento  qtd_negocios  volume_negocio  \n",
              "0                 6.39      3.186628             0.0  \n",
              "1                 6.41      3.192857      23920000.0  \n",
              "2                 6.45      3.214662      39043200.0  \n",
              "3                 6.41      3.194726      21500800.0  \n",
              "4                 6.55      3.264501      40406400.0  \n",
              "...                ...           ...             ...  \n",
              "5093             33.06     33.060001     129570200.0  \n",
              "5094             32.16     32.160000      92314500.0  \n",
              "5095             32.44     32.439999      60330600.0  \n",
              "5096             33.57     33.570000     108895400.0  \n",
              "5097             33.83     33.830002     114415900.0  \n",
              "\n",
              "[5098 rows x 8 columns]"
            ]
          },
          "execution_count": 2,
          "metadata": {},
          "output_type": "execute_result"
        }
      ],
      "source": [
        ""
      ]
    }
  ],
  "metadata": {
    "colab": {
      "collapsed_sections": [],
      "name": "ETL.ipynb",
      "provenance": []
    },
    "kernelspec": {
      "display_name": "Python 3 (ipykernel)",
      "language": "python",
      "name": "python3"
    },
    "language_info": {
      "codemirror_mode": {
        "name": "ipython",
        "version": 3
      },
      "file_extension": ".py",
      "mimetype": "text/x-python",
      "name": "python",
      "nbconvert_exporter": "python",
      "pygments_lexer": "ipython3",
      "version": "3.9.7"
    }
  },
  "nbformat": 4,
  "nbformat_minor": 0
}