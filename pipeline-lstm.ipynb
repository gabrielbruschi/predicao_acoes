{
  "nbformat": 4,
  "nbformat_minor": 0,
  "metadata": {
    "colab": {
      "provenance": [],
      "authorship_tag": "ABX9TyNy3uUnhUUEsp456/+WO395",
      "include_colab_link": true
    },
    "kernelspec": {
      "name": "python3",
      "display_name": "Python 3"
    },
    "language_info": {
      "name": "python"
    }
  },
  "cells": [
    {
      "cell_type": "markdown",
      "metadata": {
        "id": "view-in-github",
        "colab_type": "text"
      },
      "source": [
        "<a href=\"https://colab.research.google.com/github/gabrielbruschi/predicao_acoes/blob/main/pipeline-lstm.ipynb\" target=\"_parent\"><img src=\"https://colab.research.google.com/assets/colab-badge.svg\" alt=\"Open In Colab\"/></a>"
      ]
    },
    {
      "cell_type": "code",
      "execution_count": 1,
      "metadata": {
        "colab": {
          "base_uri": "https://localhost:8080/"
        },
        "id": "MfNN-JdRSQha",
        "outputId": "ff4182f3-6ec8-4fb5-bfd3-6348b931bb85"
      },
      "outputs": [
        {
          "output_type": "stream",
          "name": "stdout",
          "text": [
            "Looking in indexes: https://pypi.org/simple, https://us-python.pkg.dev/colab-wheels/public/simple/\n",
            "Collecting yfinance\n",
            "  Downloading yfinance-0.1.74-py2.py3-none-any.whl (27 kB)\n",
            "Requirement already satisfied: multitasking>=0.0.7 in /usr/local/lib/python3.7/dist-packages (from yfinance) (0.0.11)\n",
            "Requirement already satisfied: pandas>=0.24.0 in /usr/local/lib/python3.7/dist-packages (from yfinance) (1.3.5)\n",
            "Requirement already satisfied: lxml>=4.5.1 in /usr/local/lib/python3.7/dist-packages (from yfinance) (4.9.1)\n",
            "Requirement already satisfied: numpy>=1.15 in /usr/local/lib/python3.7/dist-packages (from yfinance) (1.21.6)\n",
            "Collecting requests>=2.26\n",
            "  Downloading requests-2.28.1-py3-none-any.whl (62 kB)\n",
            "\u001b[K     |████████████████████████████████| 62 kB 3.6 MB/s \n",
            "\u001b[?25hRequirement already satisfied: pytz>=2017.3 in /usr/local/lib/python3.7/dist-packages (from pandas>=0.24.0->yfinance) (2022.2.1)\n",
            "Requirement already satisfied: python-dateutil>=2.7.3 in /usr/local/lib/python3.7/dist-packages (from pandas>=0.24.0->yfinance) (2.8.2)\n",
            "Requirement already satisfied: six>=1.5 in /usr/local/lib/python3.7/dist-packages (from python-dateutil>=2.7.3->pandas>=0.24.0->yfinance) (1.15.0)\n",
            "Requirement already satisfied: charset-normalizer<3,>=2 in /usr/local/lib/python3.7/dist-packages (from requests>=2.26->yfinance) (2.1.1)\n",
            "Requirement already satisfied: certifi>=2017.4.17 in /usr/local/lib/python3.7/dist-packages (from requests>=2.26->yfinance) (2022.6.15)\n",
            "Requirement already satisfied: idna<4,>=2.5 in /usr/local/lib/python3.7/dist-packages (from requests>=2.26->yfinance) (2.10)\n",
            "Requirement already satisfied: urllib3<1.27,>=1.21.1 in /usr/local/lib/python3.7/dist-packages (from requests>=2.26->yfinance) (1.24.3)\n",
            "Installing collected packages: requests, yfinance\n",
            "  Attempting uninstall: requests\n",
            "    Found existing installation: requests 2.23.0\n",
            "    Uninstalling requests-2.23.0:\n",
            "      Successfully uninstalled requests-2.23.0\n",
            "Successfully installed requests-2.28.1 yfinance-0.1.74\n"
          ]
        }
      ],
      "source": [
        "pip install yfinance --upgrade --no-cache-dir"
      ]
    },
    {
      "cell_type": "code",
      "source": [
        "import numpy as np\n",
        "import pandas as pd\n",
        "import tensorflow as tf\n",
        "from tensorflow import keras\n",
        "from keras import layers\n",
        "from keras.models import Sequential\n",
        "from keras.layers import Dense, LSTM, Dropout\n",
        "from sklearn.preprocessing import StandardScaler #normalizar os dados\n",
        "import matplotlib.pyplot as plt #grafico\n",
        "from sklearn.model_selection import train_test_split #treinamento e teste"
      ],
      "metadata": {
        "id": "fNRp7i1Vo6dy"
      },
      "execution_count": 16,
      "outputs": []
    },
    {
      "cell_type": "code",
      "source": [
        "plt.style.use('ggplot')"
      ],
      "metadata": {
        "id": "TU4vhgM9o84C"
      },
      "execution_count": 17,
      "outputs": []
    },
    {
      "cell_type": "code",
      "source": [
        "import yfinance as yf"
      ],
      "metadata": {
        "id": "H9kz_OI0nbyA"
      },
      "execution_count": 5,
      "outputs": []
    },
    {
      "cell_type": "code",
      "source": [
        "obj = yf.Ticker('petr4.sa')"
      ],
      "metadata": {
        "id": "34CLxVIjm__0"
      },
      "execution_count": 19,
      "outputs": []
    },
    {
      "cell_type": "code",
      "source": [
        "data = obj.history(start='2002-01-01', end='2022-05-01')\n",
        "df = data.dropna()\n",
        "df"
      ],
      "metadata": {
        "colab": {
          "base_uri": "https://localhost:8080/",
          "height": 455
        },
        "id": "r0JAtviKngUK",
        "outputId": "67fe6f6f-fc04-4fae-cc5f-a10df82da3b3"
      },
      "execution_count": 20,
      "outputs": [
        {
          "output_type": "execute_result",
          "data": {
            "text/plain": [
              "                 Open       High        Low      Close    Volume  Dividends  \\\n",
              "Date                                                                          \n",
              "2002-01-01   2.328508   2.328508   2.328508   2.328508         0        0.0   \n",
              "2002-01-02   2.348994   2.363562   2.328509   2.333061  23920000        0.0   \n",
              "2002-01-03   2.362196   2.367204   2.339890   2.348994  39043200        0.0   \n",
              "2002-01-04   2.321680   2.348994   2.303471   2.334427  21500800        0.0   \n",
              "2002-01-07   2.321680   2.403622   2.321680   2.385412  40406400        0.0   \n",
              "...               ...        ...        ...        ...       ...        ...   \n",
              "2022-04-25  21.899458  22.242894  21.585253  22.001759  66413900        0.0   \n",
              "2022-04-26  22.001760  22.345194  21.841002  21.965223  48764100        0.0   \n",
              "2022-04-27  22.191745  22.330580  21.884846  21.965223  41881300        0.0   \n",
              "2022-04-28  22.250200  22.374421  22.104057  22.111364  43298500        0.0   \n",
              "2022-04-29  22.469415  23.083214  22.125980  22.125980  76243900        0.0   \n",
              "\n",
              "            Stock Splits  \n",
              "Date                      \n",
              "2002-01-01           0.0  \n",
              "2002-01-02           0.0  \n",
              "2002-01-03           0.0  \n",
              "2002-01-04           0.0  \n",
              "2002-01-07           0.0  \n",
              "...                  ...  \n",
              "2022-04-25           0.0  \n",
              "2022-04-26           0.0  \n",
              "2022-04-27           0.0  \n",
              "2022-04-28           0.0  \n",
              "2022-04-29           0.0  \n",
              "\n",
              "[5088 rows x 7 columns]"
            ],
            "text/html": [
              "\n",
              "  <div id=\"df-0060f511-f70e-4c7e-a60f-f4ec829190f6\">\n",
              "    <div class=\"colab-df-container\">\n",
              "      <div>\n",
              "<style scoped>\n",
              "    .dataframe tbody tr th:only-of-type {\n",
              "        vertical-align: middle;\n",
              "    }\n",
              "\n",
              "    .dataframe tbody tr th {\n",
              "        vertical-align: top;\n",
              "    }\n",
              "\n",
              "    .dataframe thead th {\n",
              "        text-align: right;\n",
              "    }\n",
              "</style>\n",
              "<table border=\"1\" class=\"dataframe\">\n",
              "  <thead>\n",
              "    <tr style=\"text-align: right;\">\n",
              "      <th></th>\n",
              "      <th>Open</th>\n",
              "      <th>High</th>\n",
              "      <th>Low</th>\n",
              "      <th>Close</th>\n",
              "      <th>Volume</th>\n",
              "      <th>Dividends</th>\n",
              "      <th>Stock Splits</th>\n",
              "    </tr>\n",
              "    <tr>\n",
              "      <th>Date</th>\n",
              "      <th></th>\n",
              "      <th></th>\n",
              "      <th></th>\n",
              "      <th></th>\n",
              "      <th></th>\n",
              "      <th></th>\n",
              "      <th></th>\n",
              "    </tr>\n",
              "  </thead>\n",
              "  <tbody>\n",
              "    <tr>\n",
              "      <th>2002-01-01</th>\n",
              "      <td>2.328508</td>\n",
              "      <td>2.328508</td>\n",
              "      <td>2.328508</td>\n",
              "      <td>2.328508</td>\n",
              "      <td>0</td>\n",
              "      <td>0.0</td>\n",
              "      <td>0.0</td>\n",
              "    </tr>\n",
              "    <tr>\n",
              "      <th>2002-01-02</th>\n",
              "      <td>2.348994</td>\n",
              "      <td>2.363562</td>\n",
              "      <td>2.328509</td>\n",
              "      <td>2.333061</td>\n",
              "      <td>23920000</td>\n",
              "      <td>0.0</td>\n",
              "      <td>0.0</td>\n",
              "    </tr>\n",
              "    <tr>\n",
              "      <th>2002-01-03</th>\n",
              "      <td>2.362196</td>\n",
              "      <td>2.367204</td>\n",
              "      <td>2.339890</td>\n",
              "      <td>2.348994</td>\n",
              "      <td>39043200</td>\n",
              "      <td>0.0</td>\n",
              "      <td>0.0</td>\n",
              "    </tr>\n",
              "    <tr>\n",
              "      <th>2002-01-04</th>\n",
              "      <td>2.321680</td>\n",
              "      <td>2.348994</td>\n",
              "      <td>2.303471</td>\n",
              "      <td>2.334427</td>\n",
              "      <td>21500800</td>\n",
              "      <td>0.0</td>\n",
              "      <td>0.0</td>\n",
              "    </tr>\n",
              "    <tr>\n",
              "      <th>2002-01-07</th>\n",
              "      <td>2.321680</td>\n",
              "      <td>2.403622</td>\n",
              "      <td>2.321680</td>\n",
              "      <td>2.385412</td>\n",
              "      <td>40406400</td>\n",
              "      <td>0.0</td>\n",
              "      <td>0.0</td>\n",
              "    </tr>\n",
              "    <tr>\n",
              "      <th>...</th>\n",
              "      <td>...</td>\n",
              "      <td>...</td>\n",
              "      <td>...</td>\n",
              "      <td>...</td>\n",
              "      <td>...</td>\n",
              "      <td>...</td>\n",
              "      <td>...</td>\n",
              "    </tr>\n",
              "    <tr>\n",
              "      <th>2022-04-25</th>\n",
              "      <td>21.899458</td>\n",
              "      <td>22.242894</td>\n",
              "      <td>21.585253</td>\n",
              "      <td>22.001759</td>\n",
              "      <td>66413900</td>\n",
              "      <td>0.0</td>\n",
              "      <td>0.0</td>\n",
              "    </tr>\n",
              "    <tr>\n",
              "      <th>2022-04-26</th>\n",
              "      <td>22.001760</td>\n",
              "      <td>22.345194</td>\n",
              "      <td>21.841002</td>\n",
              "      <td>21.965223</td>\n",
              "      <td>48764100</td>\n",
              "      <td>0.0</td>\n",
              "      <td>0.0</td>\n",
              "    </tr>\n",
              "    <tr>\n",
              "      <th>2022-04-27</th>\n",
              "      <td>22.191745</td>\n",
              "      <td>22.330580</td>\n",
              "      <td>21.884846</td>\n",
              "      <td>21.965223</td>\n",
              "      <td>41881300</td>\n",
              "      <td>0.0</td>\n",
              "      <td>0.0</td>\n",
              "    </tr>\n",
              "    <tr>\n",
              "      <th>2022-04-28</th>\n",
              "      <td>22.250200</td>\n",
              "      <td>22.374421</td>\n",
              "      <td>22.104057</td>\n",
              "      <td>22.111364</td>\n",
              "      <td>43298500</td>\n",
              "      <td>0.0</td>\n",
              "      <td>0.0</td>\n",
              "    </tr>\n",
              "    <tr>\n",
              "      <th>2022-04-29</th>\n",
              "      <td>22.469415</td>\n",
              "      <td>23.083214</td>\n",
              "      <td>22.125980</td>\n",
              "      <td>22.125980</td>\n",
              "      <td>76243900</td>\n",
              "      <td>0.0</td>\n",
              "      <td>0.0</td>\n",
              "    </tr>\n",
              "  </tbody>\n",
              "</table>\n",
              "<p>5088 rows × 7 columns</p>\n",
              "</div>\n",
              "      <button class=\"colab-df-convert\" onclick=\"convertToInteractive('df-0060f511-f70e-4c7e-a60f-f4ec829190f6')\"\n",
              "              title=\"Convert this dataframe to an interactive table.\"\n",
              "              style=\"display:none;\">\n",
              "        \n",
              "  <svg xmlns=\"http://www.w3.org/2000/svg\" height=\"24px\"viewBox=\"0 0 24 24\"\n",
              "       width=\"24px\">\n",
              "    <path d=\"M0 0h24v24H0V0z\" fill=\"none\"/>\n",
              "    <path d=\"M18.56 5.44l.94 2.06.94-2.06 2.06-.94-2.06-.94-.94-2.06-.94 2.06-2.06.94zm-11 1L8.5 8.5l.94-2.06 2.06-.94-2.06-.94L8.5 2.5l-.94 2.06-2.06.94zm10 10l.94 2.06.94-2.06 2.06-.94-2.06-.94-.94-2.06-.94 2.06-2.06.94z\"/><path d=\"M17.41 7.96l-1.37-1.37c-.4-.4-.92-.59-1.43-.59-.52 0-1.04.2-1.43.59L10.3 9.45l-7.72 7.72c-.78.78-.78 2.05 0 2.83L4 21.41c.39.39.9.59 1.41.59.51 0 1.02-.2 1.41-.59l7.78-7.78 2.81-2.81c.8-.78.8-2.07 0-2.86zM5.41 20L4 18.59l7.72-7.72 1.47 1.35L5.41 20z\"/>\n",
              "  </svg>\n",
              "      </button>\n",
              "      \n",
              "  <style>\n",
              "    .colab-df-container {\n",
              "      display:flex;\n",
              "      flex-wrap:wrap;\n",
              "      gap: 12px;\n",
              "    }\n",
              "\n",
              "    .colab-df-convert {\n",
              "      background-color: #E8F0FE;\n",
              "      border: none;\n",
              "      border-radius: 50%;\n",
              "      cursor: pointer;\n",
              "      display: none;\n",
              "      fill: #1967D2;\n",
              "      height: 32px;\n",
              "      padding: 0 0 0 0;\n",
              "      width: 32px;\n",
              "    }\n",
              "\n",
              "    .colab-df-convert:hover {\n",
              "      background-color: #E2EBFA;\n",
              "      box-shadow: 0px 1px 2px rgba(60, 64, 67, 0.3), 0px 1px 3px 1px rgba(60, 64, 67, 0.15);\n",
              "      fill: #174EA6;\n",
              "    }\n",
              "\n",
              "    [theme=dark] .colab-df-convert {\n",
              "      background-color: #3B4455;\n",
              "      fill: #D2E3FC;\n",
              "    }\n",
              "\n",
              "    [theme=dark] .colab-df-convert:hover {\n",
              "      background-color: #434B5C;\n",
              "      box-shadow: 0px 1px 3px 1px rgba(0, 0, 0, 0.15);\n",
              "      filter: drop-shadow(0px 1px 2px rgba(0, 0, 0, 0.3));\n",
              "      fill: #FFFFFF;\n",
              "    }\n",
              "  </style>\n",
              "\n",
              "      <script>\n",
              "        const buttonEl =\n",
              "          document.querySelector('#df-0060f511-f70e-4c7e-a60f-f4ec829190f6 button.colab-df-convert');\n",
              "        buttonEl.style.display =\n",
              "          google.colab.kernel.accessAllowed ? 'block' : 'none';\n",
              "\n",
              "        async function convertToInteractive(key) {\n",
              "          const element = document.querySelector('#df-0060f511-f70e-4c7e-a60f-f4ec829190f6');\n",
              "          const dataTable =\n",
              "            await google.colab.kernel.invokeFunction('convertToInteractive',\n",
              "                                                     [key], {});\n",
              "          if (!dataTable) return;\n",
              "\n",
              "          const docLinkHtml = 'Like what you see? Visit the ' +\n",
              "            '<a target=\"_blank\" href=https://colab.research.google.com/notebooks/data_table.ipynb>data table notebook</a>'\n",
              "            + ' to learn more about interactive tables.';\n",
              "          element.innerHTML = '';\n",
              "          dataTable['output_type'] = 'display_data';\n",
              "          await google.colab.output.renderOutput(dataTable, element);\n",
              "          const docLink = document.createElement('div');\n",
              "          docLink.innerHTML = docLinkHtml;\n",
              "          element.appendChild(docLink);\n",
              "        }\n",
              "      </script>\n",
              "    </div>\n",
              "  </div>\n",
              "  "
            ]
          },
          "metadata": {},
          "execution_count": 20
        }
      ]
    },
    {
      "cell_type": "code",
      "source": [
        "df_acao_fec = df[['Close']]\n",
        "df_acao_fec"
      ],
      "metadata": {
        "id": "Yro9n08mpEe6"
      },
      "execution_count": 22,
      "outputs": []
    },
    {
      "cell_type": "code",
      "source": [
        "#verificar a quantidade de linhas\n",
        "qtd_linhas = len(df_acao_fec)\n",
        "\n",
        "qtd_linhas_treino = round(.70 * qtd_linhas)\n",
        "qtd_linhas_teste = qtd_linhas - qtd_linhas_treino\n",
        "\n",
        "info = (\n",
        "    f\"linhas treino = 0{qtd_linhas_treino}\"\n",
        "    f\"linhas teste = {qtd_linhas_treino}:{qtd_linhas_treino + qtd_linhas_teste}\"\n",
        ")\n",
        "\n",
        "info"
      ],
      "metadata": {
        "colab": {
          "base_uri": "https://localhost:8080/",
          "height": 36
        },
        "id": "UleUSuSao1eN",
        "outputId": "46637441-2f28-4eb6-b0c9-326db8623956"
      },
      "execution_count": 24,
      "outputs": [
        {
          "output_type": "execute_result",
          "data": {
            "text/plain": [
              "'linhas treino = 03562linhas teste = 3562:5088'"
            ],
            "application/vnd.google.colaboratory.intrinsic+json": {
              "type": "string"
            }
          },
          "metadata": {},
          "execution_count": 24
        }
      ]
    },
    {
      "cell_type": "code",
      "source": [
        "#Normalizar os dados\n",
        "scaler = StandardScaler()\n",
        "df_scaled = scaler.fit_transform(df_acao_fec)"
      ],
      "metadata": {
        "id": "JzIhnyeanj41"
      },
      "execution_count": 25,
      "outputs": []
    },
    {
      "cell_type": "code",
      "source": [
        "train = df_scaled[:qtd_linhas_treino]\n",
        "test = df_scaled[qtd_linhas_treino: qtd_linhas_treino + qtd_linhas_teste] \n",
        "\n",
        "print( len(train), len(test))"
      ],
      "metadata": {
        "colab": {
          "base_uri": "https://localhost:8080/"
        },
        "id": "Uj6sH76dpgJZ",
        "outputId": "fe35596d-677d-44bf-f75f-d2fab8cef91a"
      },
      "execution_count": 26,
      "outputs": [
        {
          "output_type": "stream",
          "name": "stdout",
          "text": [
            "3562 1526\n"
          ]
        }
      ]
    },
    {
      "cell_type": "code",
      "source": [
        "#Convert an array of values into a df matrix\n",
        "#Rede LSTM\n",
        "def create_df(df, steps=1):\n",
        "  dataX, dataY = [], []\n",
        "  for i in range(len(df) - steps - 1):\n",
        "    a = df[i:(i+steps), 0]\n",
        "    dataX.append(a)\n",
        "    dataY.append(df[i + steps, 0])\n",
        "  return np.array(dataX), np.array(dataY)"
      ],
      "metadata": {
        "id": "rwGeICx-piD_"
      },
      "execution_count": 27,
      "outputs": []
    },
    {
      "cell_type": "code",
      "source": [
        "#Gerando dados de treino e teste\n",
        "steps = 15 \n",
        "X_train, Y_train = create_df(train, steps)\n",
        "X_test, Y_test = create_df(test, steps)"
      ],
      "metadata": {
        "id": "pXQ8fwnQplmF"
      },
      "execution_count": 28,
      "outputs": []
    },
    {
      "cell_type": "code",
      "source": [
        "# Gerando os dados que o modelo espera\n",
        "X_train = X_train.reshape(X_train.shape[0], X_train.shape[1], 1) #1 'e a qntd de features\n",
        "X_test = X_test.reshape(X_test.shape[0], X_test.shape[1], 1)"
      ],
      "metadata": {
        "id": "e4YfhTdWpoBc"
      },
      "execution_count": 29,
      "outputs": []
    },
    {
      "cell_type": "code",
      "source": [
        "#Montando a rede\n",
        "model = Sequential()\n",
        "model.add(LSTM(35, return_sequences=True, input_shape=(steps, 1))) #35 neuronios, o return_seq = true : pega a informacao q sai e reinsere, dados com memoria\n",
        "model.add(LSTM(35, return_sequences=True))\n",
        "model.add(LSTM(35))\n",
        "model.add(Dropout(0.05)) #ANTES ERA 0.2 #nao causar um overfit (rede muito treinada), dou uma penalizada na feature\n",
        "model.add(Dense(1)) #saida unica do preco que queremos prever"
      ],
      "metadata": {
        "id": "Nxh4HYQdpqfz"
      },
      "execution_count": 30,
      "outputs": []
    },
    {
      "cell_type": "code",
      "source": [
        "model.compile(optimizer='adam', loss='mse') #adam mais usado, loss: minimun sequer error, ver o quanto minha rede esta performando\n",
        "model.summary()"
      ],
      "metadata": {
        "colab": {
          "base_uri": "https://localhost:8080/"
        },
        "id": "5WHGPEhJprkw",
        "outputId": "75aaf323-a2bc-4db5-a543-7ef69710c68d"
      },
      "execution_count": 31,
      "outputs": [
        {
          "output_type": "stream",
          "name": "stdout",
          "text": [
            "Model: \"sequential\"\n",
            "_________________________________________________________________\n",
            " Layer (type)                Output Shape              Param #   \n",
            "=================================================================\n",
            " lstm (LSTM)                 (None, 15, 35)            5180      \n",
            "                                                                 \n",
            " lstm_1 (LSTM)               (None, 15, 35)            9940      \n",
            "                                                                 \n",
            " lstm_2 (LSTM)               (None, 35)                9940      \n",
            "                                                                 \n",
            " dropout (Dropout)           (None, 35)                0         \n",
            "                                                                 \n",
            " dense (Dense)               (None, 1)                 36        \n",
            "                                                                 \n",
            "=================================================================\n",
            "Total params: 25,096\n",
            "Trainable params: 25,096\n",
            "Non-trainable params: 0\n",
            "_________________________________________________________________\n"
          ]
        }
      ]
    },
    {
      "cell_type": "code",
      "source": [
        "#Treinamento do modelo\n",
        "validation = model.fit(X_train, Y_train, validation_data=(X_test, Y_test), epochs=200, batch_size=15, verbose=2)\n",
        "# ele vai validando para ver como esta perfomando, batch_size 'e quantidade de dias pra tras, verbose pra ver como as informacoes estao sendo plotadas"
      ],
      "metadata": {
        "id": "kR-1-8fhpuVz"
      },
      "execution_count": null,
      "outputs": []
    },
    {
      "cell_type": "code",
      "source": [
        "#plt.figure(figsize=(16,8))\n",
        "plt.plot(validation.history['loss'], label='Training loss')\n",
        "plt.plot(validation.history['val_loss'], label='Validation loss')\n",
        "plt.legend()\n",
        "plt.title('Validação e Performace do algoritmo LSTM')"
      ],
      "metadata": {
        "id": "f2aKV0GypuvJ"
      },
      "execution_count": null,
      "outputs": []
    },
    {
      "cell_type": "code",
      "source": [
        "#Fazendo previsao\n",
        "\n",
        "prev = model.predict(X_test)\n",
        "prev = scaler.inverse_transform(prev) #removo a normalizacao\n",
        "prev # precos previstos"
      ],
      "metadata": {
        "id": "mWgv5IBwpygC"
      },
      "execution_count": null,
      "outputs": []
    },
    {
      "cell_type": "code",
      "source": [
        "#previsão para os proximos 10 dias\n",
        "\n",
        "lenght_test = len(test)\n",
        "lenght_test"
      ],
      "metadata": {
        "id": "uzEPY96LpztO"
      },
      "execution_count": null,
      "outputs": []
    },
    {
      "cell_type": "code",
      "source": [
        "#pegar os ultimos dias que são o tamanho do meu step - 15 dias\n",
        "\n",
        "days_input_steps = lenght_test - steps\n",
        "days_input_steps"
      ],
      "metadata": {
        "id": "Qn-SIXOOp02O"
      },
      "execution_count": null,
      "outputs": []
    },
    {
      "cell_type": "code",
      "source": [
        "#transforma em array\n",
        "\n",
        "input_steps = test[days_input_steps:]\n",
        "input_steps = np.array(input_steps).reshape(1,-1)\n",
        "input_steps # informacao usada para prever os 10 dias a frente\n",
        "#utilizamos os 15 dias para trás para prever os proximos 10 dias a frente"
      ],
      "metadata": {
        "id": "-6nj2axup2Hf"
      },
      "execution_count": null,
      "outputs": []
    },
    {
      "cell_type": "code",
      "source": [
        "#transformar em lista\n",
        "\n",
        "list_output_steps = list(input_steps)\n",
        "list_output_steps = list_output_steps[0].tolist()\n",
        "list_output_steps"
      ],
      "metadata": {
        "id": "cq52ILI7p3xf"
      },
      "execution_count": null,
      "outputs": []
    },
    {
      "cell_type": "code",
      "source": [
        "#loop para prever os proximos 10 dias\n",
        "\n",
        "pred_output = []\n",
        "i = 0\n",
        "n_future = 10\n",
        "\n",
        "while (i < n_future):\n",
        "    \n",
        "    if (len(list_output_steps) > steps):\n",
        "        input_steps = np.array(list_output_steps[1:])\n",
        "        print(\"{} dia. Valores de entrada -> {}\".format(i,input_steps))\n",
        "        input_steps = input_steps.reshape(1,-1)\n",
        "        input_steps = input_steps.reshape((1, steps, 1))\n",
        "        #print(input_steps)\n",
        "        pred = model.predict(input_steps, verbose = 0)\n",
        "        print(\"{} dia. Valor previsto -> {}\".format(i, pred))\n",
        "        list_output_steps.extend(pred[0].tolist())\n",
        "        list_output_steps = list_output_steps[1:]\n",
        "        #print(list_output_steps)\n",
        "        pred_output.extend(pred.tolist())\n",
        "        i = i + 1\n",
        "    else:\n",
        "        input_steps = input_steps.reshape((1, steps, 1))\n",
        "        pred = model.predict(input_steps, verbose = 0)\n",
        "        print(pred[0])\n",
        "        list_output_steps.extend(pred[0].tolist())\n",
        "        print(len(list_output_steps))\n",
        "        pred_output.extend(pred.tolist())\n",
        "        i = i + 1\n",
        "\n",
        "print(pred_output)"
      ],
      "metadata": {
        "id": "MMwE213Gp488"
      },
      "execution_count": null,
      "outputs": []
    },
    {
      "cell_type": "code",
      "source": [
        "#transformar a saida\n",
        "\n",
        "prev = scaler.inverse_transform(pred_output)\n",
        "prev = np.array(prev).reshape(1, -1)\n",
        "list_output_prev = list(prev)\n",
        "list_output_prev = prev[0].tolist()\n",
        "list_output_prev"
      ],
      "metadata": {
        "id": "w8XxQMjdp6ay"
      },
      "execution_count": null,
      "outputs": []
    },
    {
      "cell_type": "code",
      "source": [
        "#pegar as datas de previsão \n",
        "\n",
        "dates = pd.to_datetime(df['data_pregao'])\n",
        "predict_dates = pd.date_range(list(dates)[-1] + pd.DateOffset(1), periods = 10, freq='b').tolist() #freq b = dias bussins\n",
        "predict_dates "
      ],
      "metadata": {
        "id": "TVoVNSnAp7g-"
      },
      "execution_count": null,
      "outputs": []
    },
    {
      "cell_type": "code",
      "source": [
        "#cria dataframe de previsao\n",
        "\n",
        "forecast_dates = []\n",
        "for i in predict_dates:\n",
        "    forecast_dates.append(i.date())\n",
        "    \n",
        "df_forecast = pd.DataFrame({'data_pregao': np.array(forecast_dates), 'preco_fechamento': list_output_prev})\n",
        "df_forecast['data_pregao'] = pd.to_datetime(df_forecast['data_pregao'])\n",
        "\n",
        "df_forecast = df_forecast.set_index(pd.DatetimeIndex(df_forecast['data_pregao'].values))\n",
        "df_forecast = df_forecast[df_forecast['data_pregao'] > '2022-04-01']\n",
        "df_forecast.drop('data_pregao', axis = 1, inplace = True)\n",
        "df_forecast"
      ],
      "metadata": {
        "id": "GSAG4mGBp8g8"
      },
      "execution_count": null,
      "outputs": []
    },
    {
      "cell_type": "code",
      "source": [
        "df_acao_fec = df[['data_pregao', 'preco_fechamento']]\n",
        "df_acao_fec = df_acao_fec.set_index(pd.DatetimeIndex(df_acao_fec['data_pregao'].values))\n",
        "df_acao_fec = df_acao_fec[df_acao_fec['data_pregao'] > '2022-01-01']\n",
        "df_acao_fec.drop('data_pregao', axis=1, inplace=True)\n",
        "df_acao_fec"
      ],
      "metadata": {
        "id": "MqsfFZkup92x"
      },
      "execution_count": null,
      "outputs": []
    },
    {
      "cell_type": "code",
      "source": [
        "#plotar o grafico\n",
        "\n",
        "#plt.figure(figsize=(16,8))\n",
        "plt.plot(df_acao_fec['preco_fechamento'], label='Preço de Fechamento')\n",
        "plt.plot(df_forecast['preco_fechamento'], label='Preço Previsto')\n",
        "plt.legend()\n",
        "plt.title('Previsão de 10 dias da ação PETR4.SA')\n"
      ],
      "metadata": {
        "id": "xgNZhm9xp--N"
      },
      "execution_count": null,
      "outputs": []
    }
  ]
}