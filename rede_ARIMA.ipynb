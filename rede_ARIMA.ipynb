{
  "nbformat": 4,
  "nbformat_minor": 0,
  "metadata": {
    "colab": {
      "provenance": [],
      "authorship_tag": "ABX9TyNR4MZPumFx/HLlvtCMC/aG",
      "include_colab_link": true
    },
    "kernelspec": {
      "name": "python3",
      "display_name": "Python 3"
    },
    "language_info": {
      "name": "python"
    },
    "accelerator": "TPU"
  },
  "cells": [
    {
      "cell_type": "markdown",
      "metadata": {
        "id": "view-in-github",
        "colab_type": "text"
      },
      "source": [
        "<a href=\"https://colab.research.google.com/github/gabrielbruschi/predicao_acoes/blob/main/rede_ARIMA.ipynb\" target=\"_parent\"><img src=\"https://colab.research.google.com/assets/colab-badge.svg\" alt=\"Open In Colab\"/></a>"
      ]
    },
    {
      "cell_type": "code",
      "execution_count": null,
      "metadata": {
        "colab": {
          "base_uri": "https://localhost:8080/"
        },
        "id": "LGYNs507Yfit",
        "outputId": "d3f3079e-6cb4-4c88-bebb-8eb14f44da90"
      },
      "outputs": [
        {
          "output_type": "stream",
          "name": "stdout",
          "text": [
            "Looking in indexes: https://pypi.org/simple, https://us-python.pkg.dev/colab-wheels/public/simple/\n",
            "Collecting pmdarima\n",
            "  Downloading pmdarima-2.0.1-cp37-cp37m-manylinux_2_17_x86_64.manylinux2014_x86_64.manylinux_2_28_x86_64.whl (1.8 MB)\n",
            "\u001b[K     |████████████████████████████████| 1.8 MB 5.0 MB/s \n",
            "\u001b[?25hRequirement already satisfied: joblib>=0.11 in /usr/local/lib/python3.7/dist-packages (from pmdarima) (1.1.0)\n",
            "Requirement already satisfied: numpy>=1.21 in /usr/local/lib/python3.7/dist-packages (from pmdarima) (1.21.6)\n",
            "Requirement already satisfied: scipy>=1.3.2 in /usr/local/lib/python3.7/dist-packages (from pmdarima) (1.7.3)\n",
            "Requirement already satisfied: pandas>=0.19 in /usr/local/lib/python3.7/dist-packages (from pmdarima) (1.3.5)\n",
            "Requirement already satisfied: Cython!=0.29.18,!=0.29.31,>=0.29 in /usr/local/lib/python3.7/dist-packages (from pmdarima) (0.29.32)\n",
            "Requirement already satisfied: urllib3 in /usr/local/lib/python3.7/dist-packages (from pmdarima) (1.24.3)\n",
            "Requirement already satisfied: setuptools!=50.0.0,>=38.6.0 in /usr/local/lib/python3.7/dist-packages (from pmdarima) (57.4.0)\n",
            "Requirement already satisfied: scikit-learn>=0.22 in /usr/local/lib/python3.7/dist-packages (from pmdarima) (1.0.2)\n",
            "Collecting statsmodels>=0.13.2\n",
            "  Downloading statsmodels-0.13.2-cp37-cp37m-manylinux_2_17_x86_64.manylinux2014_x86_64.whl (9.8 MB)\n",
            "\u001b[K     |████████████████████████████████| 9.8 MB 31.5 MB/s \n",
            "\u001b[?25hRequirement already satisfied: pytz>=2017.3 in /usr/local/lib/python3.7/dist-packages (from pandas>=0.19->pmdarima) (2022.2.1)\n",
            "Requirement already satisfied: python-dateutil>=2.7.3 in /usr/local/lib/python3.7/dist-packages (from pandas>=0.19->pmdarima) (2.8.2)\n",
            "Requirement already satisfied: six>=1.5 in /usr/local/lib/python3.7/dist-packages (from python-dateutil>=2.7.3->pandas>=0.19->pmdarima) (1.15.0)\n",
            "Requirement already satisfied: threadpoolctl>=2.0.0 in /usr/local/lib/python3.7/dist-packages (from scikit-learn>=0.22->pmdarima) (3.1.0)\n",
            "Requirement already satisfied: packaging>=21.3 in /usr/local/lib/python3.7/dist-packages (from statsmodels>=0.13.2->pmdarima) (21.3)\n",
            "Requirement already satisfied: patsy>=0.5.2 in /usr/local/lib/python3.7/dist-packages (from statsmodels>=0.13.2->pmdarima) (0.5.2)\n",
            "Requirement already satisfied: pyparsing!=3.0.5,>=2.0.2 in /usr/local/lib/python3.7/dist-packages (from packaging>=21.3->statsmodels>=0.13.2->pmdarima) (3.0.9)\n",
            "Installing collected packages: statsmodels, pmdarima\n",
            "  Attempting uninstall: statsmodels\n",
            "    Found existing installation: statsmodels 0.12.2\n",
            "    Uninstalling statsmodels-0.12.2:\n",
            "      Successfully uninstalled statsmodels-0.12.2\n",
            "Successfully installed pmdarima-2.0.1 statsmodels-0.13.2\n"
          ]
        }
      ],
      "source": [
        "!pip install pmdarima"
      ]
    },
    {
      "cell_type": "code",
      "source": [
        "import pandas as pd\n",
        "import numpy as np\n",
        "\n",
        "import matplotlib.pyplot as plt\n",
        "plt.style.use('ggplot')\n",
        "\n",
        "import pmdarima\n",
        "import statsmodels.tsa.api as smt\n",
        "\n",
        "import python_utils as ts"
      ],
      "metadata": {
        "id": "XFNgH9O4anVl"
      },
      "execution_count": null,
      "outputs": []
    },
    {
      "cell_type": "code",
      "source": [
        "df = pd.read_csv('PTR4_bovespa_tratado.csv')\n",
        "df = df.set_index(pd.DatetimeIndex(df['data_pregao'].values))\n",
        "df"
      ],
      "metadata": {
        "colab": {
          "base_uri": "https://localhost:8080/",
          "height": 661
        },
        "id": "vBLI5_0sa2d0",
        "outputId": "c24e80d7-f7d3-409e-bbdb-f282f9f22b69"
      },
      "execution_count": null,
      "outputs": [
        {
          "output_type": "execute_result",
          "data": {
            "text/plain": [
              "            preco_abertura  preco_maximo  preco_minimo  preco_fechamento  \\\n",
              "2002-01-01            6.39          6.39          6.39              6.39   \n",
              "2002-01-02            6.45          6.49          6.39              6.41   \n",
              "2002-01-03            6.49          6.50          6.42              6.45   \n",
              "2002-01-04            6.38          6.45          6.32              6.41   \n",
              "2002-01-07            6.38          6.60          6.38              6.55   \n",
              "...                    ...           ...           ...               ...   \n",
              "2022-05-06           32.69         33.12         31.90             33.06   \n",
              "2022-05-09           32.70         33.04         32.06             32.16   \n",
              "2022-05-10           32.36         32.85         32.20             32.44   \n",
              "2022-05-11           32.78         33.91         32.69             33.57   \n",
              "2022-05-12           33.26         34.08         33.26             33.83   \n",
              "\n",
              "            qtd_negocios  volume_negocio data_pregao  \n",
              "2002-01-01      3.186628             0.0  2002-01-01  \n",
              "2002-01-02      3.192857      23920000.0  2002-01-02  \n",
              "2002-01-03      3.214662      39043200.0  2002-01-03  \n",
              "2002-01-04      3.194726      21500800.0  2002-01-04  \n",
              "2002-01-07      3.264501      40406400.0  2002-01-07  \n",
              "...                  ...             ...         ...  \n",
              "2022-05-06     33.060001     129570200.0  2022-05-06  \n",
              "2022-05-09     32.160000      92314500.0  2022-05-09  \n",
              "2022-05-10     32.439999      60330600.0  2022-05-10  \n",
              "2022-05-11     33.570000     108895400.0  2022-05-11  \n",
              "2022-05-12     33.830002     114415900.0  2022-05-12  \n",
              "\n",
              "[5098 rows x 7 columns]"
            ],
            "text/html": [
              "\n",
              "  <div id=\"df-cab0029b-d831-45dd-b2c1-f5541865b5fd\">\n",
              "    <div class=\"colab-df-container\">\n",
              "      <div>\n",
              "<style scoped>\n",
              "    .dataframe tbody tr th:only-of-type {\n",
              "        vertical-align: middle;\n",
              "    }\n",
              "\n",
              "    .dataframe tbody tr th {\n",
              "        vertical-align: top;\n",
              "    }\n",
              "\n",
              "    .dataframe thead th {\n",
              "        text-align: right;\n",
              "    }\n",
              "</style>\n",
              "<table border=\"1\" class=\"dataframe\">\n",
              "  <thead>\n",
              "    <tr style=\"text-align: right;\">\n",
              "      <th></th>\n",
              "      <th>preco_abertura</th>\n",
              "      <th>preco_maximo</th>\n",
              "      <th>preco_minimo</th>\n",
              "      <th>preco_fechamento</th>\n",
              "      <th>qtd_negocios</th>\n",
              "      <th>volume_negocio</th>\n",
              "      <th>data_pregao</th>\n",
              "    </tr>\n",
              "  </thead>\n",
              "  <tbody>\n",
              "    <tr>\n",
              "      <th>2002-01-01</th>\n",
              "      <td>6.39</td>\n",
              "      <td>6.39</td>\n",
              "      <td>6.39</td>\n",
              "      <td>6.39</td>\n",
              "      <td>3.186628</td>\n",
              "      <td>0.0</td>\n",
              "      <td>2002-01-01</td>\n",
              "    </tr>\n",
              "    <tr>\n",
              "      <th>2002-01-02</th>\n",
              "      <td>6.45</td>\n",
              "      <td>6.49</td>\n",
              "      <td>6.39</td>\n",
              "      <td>6.41</td>\n",
              "      <td>3.192857</td>\n",
              "      <td>23920000.0</td>\n",
              "      <td>2002-01-02</td>\n",
              "    </tr>\n",
              "    <tr>\n",
              "      <th>2002-01-03</th>\n",
              "      <td>6.49</td>\n",
              "      <td>6.50</td>\n",
              "      <td>6.42</td>\n",
              "      <td>6.45</td>\n",
              "      <td>3.214662</td>\n",
              "      <td>39043200.0</td>\n",
              "      <td>2002-01-03</td>\n",
              "    </tr>\n",
              "    <tr>\n",
              "      <th>2002-01-04</th>\n",
              "      <td>6.38</td>\n",
              "      <td>6.45</td>\n",
              "      <td>6.32</td>\n",
              "      <td>6.41</td>\n",
              "      <td>3.194726</td>\n",
              "      <td>21500800.0</td>\n",
              "      <td>2002-01-04</td>\n",
              "    </tr>\n",
              "    <tr>\n",
              "      <th>2002-01-07</th>\n",
              "      <td>6.38</td>\n",
              "      <td>6.60</td>\n",
              "      <td>6.38</td>\n",
              "      <td>6.55</td>\n",
              "      <td>3.264501</td>\n",
              "      <td>40406400.0</td>\n",
              "      <td>2002-01-07</td>\n",
              "    </tr>\n",
              "    <tr>\n",
              "      <th>...</th>\n",
              "      <td>...</td>\n",
              "      <td>...</td>\n",
              "      <td>...</td>\n",
              "      <td>...</td>\n",
              "      <td>...</td>\n",
              "      <td>...</td>\n",
              "      <td>...</td>\n",
              "    </tr>\n",
              "    <tr>\n",
              "      <th>2022-05-06</th>\n",
              "      <td>32.69</td>\n",
              "      <td>33.12</td>\n",
              "      <td>31.90</td>\n",
              "      <td>33.06</td>\n",
              "      <td>33.060001</td>\n",
              "      <td>129570200.0</td>\n",
              "      <td>2022-05-06</td>\n",
              "    </tr>\n",
              "    <tr>\n",
              "      <th>2022-05-09</th>\n",
              "      <td>32.70</td>\n",
              "      <td>33.04</td>\n",
              "      <td>32.06</td>\n",
              "      <td>32.16</td>\n",
              "      <td>32.160000</td>\n",
              "      <td>92314500.0</td>\n",
              "      <td>2022-05-09</td>\n",
              "    </tr>\n",
              "    <tr>\n",
              "      <th>2022-05-10</th>\n",
              "      <td>32.36</td>\n",
              "      <td>32.85</td>\n",
              "      <td>32.20</td>\n",
              "      <td>32.44</td>\n",
              "      <td>32.439999</td>\n",
              "      <td>60330600.0</td>\n",
              "      <td>2022-05-10</td>\n",
              "    </tr>\n",
              "    <tr>\n",
              "      <th>2022-05-11</th>\n",
              "      <td>32.78</td>\n",
              "      <td>33.91</td>\n",
              "      <td>32.69</td>\n",
              "      <td>33.57</td>\n",
              "      <td>33.570000</td>\n",
              "      <td>108895400.0</td>\n",
              "      <td>2022-05-11</td>\n",
              "    </tr>\n",
              "    <tr>\n",
              "      <th>2022-05-12</th>\n",
              "      <td>33.26</td>\n",
              "      <td>34.08</td>\n",
              "      <td>33.26</td>\n",
              "      <td>33.83</td>\n",
              "      <td>33.830002</td>\n",
              "      <td>114415900.0</td>\n",
              "      <td>2022-05-12</td>\n",
              "    </tr>\n",
              "  </tbody>\n",
              "</table>\n",
              "<p>5098 rows × 7 columns</p>\n",
              "</div>\n",
              "      <button class=\"colab-df-convert\" onclick=\"convertToInteractive('df-cab0029b-d831-45dd-b2c1-f5541865b5fd')\"\n",
              "              title=\"Convert this dataframe to an interactive table.\"\n",
              "              style=\"display:none;\">\n",
              "        \n",
              "  <svg xmlns=\"http://www.w3.org/2000/svg\" height=\"24px\"viewBox=\"0 0 24 24\"\n",
              "       width=\"24px\">\n",
              "    <path d=\"M0 0h24v24H0V0z\" fill=\"none\"/>\n",
              "    <path d=\"M18.56 5.44l.94 2.06.94-2.06 2.06-.94-2.06-.94-.94-2.06-.94 2.06-2.06.94zm-11 1L8.5 8.5l.94-2.06 2.06-.94-2.06-.94L8.5 2.5l-.94 2.06-2.06.94zm10 10l.94 2.06.94-2.06 2.06-.94-2.06-.94-.94-2.06-.94 2.06-2.06.94z\"/><path d=\"M17.41 7.96l-1.37-1.37c-.4-.4-.92-.59-1.43-.59-.52 0-1.04.2-1.43.59L10.3 9.45l-7.72 7.72c-.78.78-.78 2.05 0 2.83L4 21.41c.39.39.9.59 1.41.59.51 0 1.02-.2 1.41-.59l7.78-7.78 2.81-2.81c.8-.78.8-2.07 0-2.86zM5.41 20L4 18.59l7.72-7.72 1.47 1.35L5.41 20z\"/>\n",
              "  </svg>\n",
              "      </button>\n",
              "      \n",
              "  <style>\n",
              "    .colab-df-container {\n",
              "      display:flex;\n",
              "      flex-wrap:wrap;\n",
              "      gap: 12px;\n",
              "    }\n",
              "\n",
              "    .colab-df-convert {\n",
              "      background-color: #E8F0FE;\n",
              "      border: none;\n",
              "      border-radius: 50%;\n",
              "      cursor: pointer;\n",
              "      display: none;\n",
              "      fill: #1967D2;\n",
              "      height: 32px;\n",
              "      padding: 0 0 0 0;\n",
              "      width: 32px;\n",
              "    }\n",
              "\n",
              "    .colab-df-convert:hover {\n",
              "      background-color: #E2EBFA;\n",
              "      box-shadow: 0px 1px 2px rgba(60, 64, 67, 0.3), 0px 1px 3px 1px rgba(60, 64, 67, 0.15);\n",
              "      fill: #174EA6;\n",
              "    }\n",
              "\n",
              "    [theme=dark] .colab-df-convert {\n",
              "      background-color: #3B4455;\n",
              "      fill: #D2E3FC;\n",
              "    }\n",
              "\n",
              "    [theme=dark] .colab-df-convert:hover {\n",
              "      background-color: #434B5C;\n",
              "      box-shadow: 0px 1px 3px 1px rgba(0, 0, 0, 0.15);\n",
              "      filter: drop-shadow(0px 1px 2px rgba(0, 0, 0, 0.3));\n",
              "      fill: #FFFFFF;\n",
              "    }\n",
              "  </style>\n",
              "\n",
              "      <script>\n",
              "        const buttonEl =\n",
              "          document.querySelector('#df-cab0029b-d831-45dd-b2c1-f5541865b5fd button.colab-df-convert');\n",
              "        buttonEl.style.display =\n",
              "          google.colab.kernel.accessAllowed ? 'block' : 'none';\n",
              "\n",
              "        async function convertToInteractive(key) {\n",
              "          const element = document.querySelector('#df-cab0029b-d831-45dd-b2c1-f5541865b5fd');\n",
              "          const dataTable =\n",
              "            await google.colab.kernel.invokeFunction('convertToInteractive',\n",
              "                                                     [key], {});\n",
              "          if (!dataTable) return;\n",
              "\n",
              "          const docLinkHtml = 'Like what you see? Visit the ' +\n",
              "            '<a target=\"_blank\" href=https://colab.research.google.com/notebooks/data_table.ipynb>data table notebook</a>'\n",
              "            + ' to learn more about interactive tables.';\n",
              "          element.innerHTML = '';\n",
              "          dataTable['output_type'] = 'display_data';\n",
              "          await google.colab.output.renderOutput(dataTable, element);\n",
              "          const docLink = document.createElement('div');\n",
              "          docLink.innerHTML = docLinkHtml;\n",
              "          element.appendChild(docLink);\n",
              "        }\n",
              "      </script>\n",
              "    </div>\n",
              "  </div>\n",
              "  "
            ]
          },
          "metadata": {},
          "execution_count": 51
        }
      ]
    },
    {
      "cell_type": "code",
      "source": [
        "dtf = df[['data_pregao', 'preco_fechamento']]\n",
        "dtf = dtf.rename(columns = {'data_pregao':'data', 'preco_fechamento':'x'})\n",
        "df_acao = dtf.set_index(pd.DatetimeIndex(dtf['data'].values))\n",
        "#df_acao.dropna(inplace=True)\n",
        "df_acao"
      ],
      "metadata": {
        "colab": {
          "base_uri": "https://localhost:8080/",
          "height": 423
        },
        "id": "V_uNdgdkbAuh",
        "outputId": "2e5ce1f1-0c2b-4978-84fa-0a61fb7ef590"
      },
      "execution_count": null,
      "outputs": [
        {
          "output_type": "execute_result",
          "data": {
            "text/plain": [
              "                  data      x\n",
              "2002-01-01  2002-01-01   6.39\n",
              "2002-01-02  2002-01-02   6.41\n",
              "2002-01-03  2002-01-03   6.45\n",
              "2002-01-04  2002-01-04   6.41\n",
              "2002-01-07  2002-01-07   6.55\n",
              "...                ...    ...\n",
              "2022-05-06  2022-05-06  33.06\n",
              "2022-05-09  2022-05-09  32.16\n",
              "2022-05-10  2022-05-10  32.44\n",
              "2022-05-11  2022-05-11  33.57\n",
              "2022-05-12  2022-05-12  33.83\n",
              "\n",
              "[5077 rows x 2 columns]"
            ],
            "text/html": [
              "\n",
              "  <div id=\"df-17884abe-65db-422d-93de-72bea0f38e1b\">\n",
              "    <div class=\"colab-df-container\">\n",
              "      <div>\n",
              "<style scoped>\n",
              "    .dataframe tbody tr th:only-of-type {\n",
              "        vertical-align: middle;\n",
              "    }\n",
              "\n",
              "    .dataframe tbody tr th {\n",
              "        vertical-align: top;\n",
              "    }\n",
              "\n",
              "    .dataframe thead th {\n",
              "        text-align: right;\n",
              "    }\n",
              "</style>\n",
              "<table border=\"1\" class=\"dataframe\">\n",
              "  <thead>\n",
              "    <tr style=\"text-align: right;\">\n",
              "      <th></th>\n",
              "      <th>data</th>\n",
              "      <th>x</th>\n",
              "    </tr>\n",
              "  </thead>\n",
              "  <tbody>\n",
              "    <tr>\n",
              "      <th>2002-01-01</th>\n",
              "      <td>2002-01-01</td>\n",
              "      <td>6.39</td>\n",
              "    </tr>\n",
              "    <tr>\n",
              "      <th>2002-01-02</th>\n",
              "      <td>2002-01-02</td>\n",
              "      <td>6.41</td>\n",
              "    </tr>\n",
              "    <tr>\n",
              "      <th>2002-01-03</th>\n",
              "      <td>2002-01-03</td>\n",
              "      <td>6.45</td>\n",
              "    </tr>\n",
              "    <tr>\n",
              "      <th>2002-01-04</th>\n",
              "      <td>2002-01-04</td>\n",
              "      <td>6.41</td>\n",
              "    </tr>\n",
              "    <tr>\n",
              "      <th>2002-01-07</th>\n",
              "      <td>2002-01-07</td>\n",
              "      <td>6.55</td>\n",
              "    </tr>\n",
              "    <tr>\n",
              "      <th>...</th>\n",
              "      <td>...</td>\n",
              "      <td>...</td>\n",
              "    </tr>\n",
              "    <tr>\n",
              "      <th>2022-05-06</th>\n",
              "      <td>2022-05-06</td>\n",
              "      <td>33.06</td>\n",
              "    </tr>\n",
              "    <tr>\n",
              "      <th>2022-05-09</th>\n",
              "      <td>2022-05-09</td>\n",
              "      <td>32.16</td>\n",
              "    </tr>\n",
              "    <tr>\n",
              "      <th>2022-05-10</th>\n",
              "      <td>2022-05-10</td>\n",
              "      <td>32.44</td>\n",
              "    </tr>\n",
              "    <tr>\n",
              "      <th>2022-05-11</th>\n",
              "      <td>2022-05-11</td>\n",
              "      <td>33.57</td>\n",
              "    </tr>\n",
              "    <tr>\n",
              "      <th>2022-05-12</th>\n",
              "      <td>2022-05-12</td>\n",
              "      <td>33.83</td>\n",
              "    </tr>\n",
              "  </tbody>\n",
              "</table>\n",
              "<p>5077 rows × 2 columns</p>\n",
              "</div>\n",
              "      <button class=\"colab-df-convert\" onclick=\"convertToInteractive('df-17884abe-65db-422d-93de-72bea0f38e1b')\"\n",
              "              title=\"Convert this dataframe to an interactive table.\"\n",
              "              style=\"display:none;\">\n",
              "        \n",
              "  <svg xmlns=\"http://www.w3.org/2000/svg\" height=\"24px\"viewBox=\"0 0 24 24\"\n",
              "       width=\"24px\">\n",
              "    <path d=\"M0 0h24v24H0V0z\" fill=\"none\"/>\n",
              "    <path d=\"M18.56 5.44l.94 2.06.94-2.06 2.06-.94-2.06-.94-.94-2.06-.94 2.06-2.06.94zm-11 1L8.5 8.5l.94-2.06 2.06-.94-2.06-.94L8.5 2.5l-.94 2.06-2.06.94zm10 10l.94 2.06.94-2.06 2.06-.94-2.06-.94-.94-2.06-.94 2.06-2.06.94z\"/><path d=\"M17.41 7.96l-1.37-1.37c-.4-.4-.92-.59-1.43-.59-.52 0-1.04.2-1.43.59L10.3 9.45l-7.72 7.72c-.78.78-.78 2.05 0 2.83L4 21.41c.39.39.9.59 1.41.59.51 0 1.02-.2 1.41-.59l7.78-7.78 2.81-2.81c.8-.78.8-2.07 0-2.86zM5.41 20L4 18.59l7.72-7.72 1.47 1.35L5.41 20z\"/>\n",
              "  </svg>\n",
              "      </button>\n",
              "      \n",
              "  <style>\n",
              "    .colab-df-container {\n",
              "      display:flex;\n",
              "      flex-wrap:wrap;\n",
              "      gap: 12px;\n",
              "    }\n",
              "\n",
              "    .colab-df-convert {\n",
              "      background-color: #E8F0FE;\n",
              "      border: none;\n",
              "      border-radius: 50%;\n",
              "      cursor: pointer;\n",
              "      display: none;\n",
              "      fill: #1967D2;\n",
              "      height: 32px;\n",
              "      padding: 0 0 0 0;\n",
              "      width: 32px;\n",
              "    }\n",
              "\n",
              "    .colab-df-convert:hover {\n",
              "      background-color: #E2EBFA;\n",
              "      box-shadow: 0px 1px 2px rgba(60, 64, 67, 0.3), 0px 1px 3px 1px rgba(60, 64, 67, 0.15);\n",
              "      fill: #174EA6;\n",
              "    }\n",
              "\n",
              "    [theme=dark] .colab-df-convert {\n",
              "      background-color: #3B4455;\n",
              "      fill: #D2E3FC;\n",
              "    }\n",
              "\n",
              "    [theme=dark] .colab-df-convert:hover {\n",
              "      background-color: #434B5C;\n",
              "      box-shadow: 0px 1px 3px 1px rgba(0, 0, 0, 0.15);\n",
              "      filter: drop-shadow(0px 1px 2px rgba(0, 0, 0, 0.3));\n",
              "      fill: #FFFFFF;\n",
              "    }\n",
              "  </style>\n",
              "\n",
              "      <script>\n",
              "        const buttonEl =\n",
              "          document.querySelector('#df-17884abe-65db-422d-93de-72bea0f38e1b button.colab-df-convert');\n",
              "        buttonEl.style.display =\n",
              "          google.colab.kernel.accessAllowed ? 'block' : 'none';\n",
              "\n",
              "        async function convertToInteractive(key) {\n",
              "          const element = document.querySelector('#df-17884abe-65db-422d-93de-72bea0f38e1b');\n",
              "          const dataTable =\n",
              "            await google.colab.kernel.invokeFunction('convertToInteractive',\n",
              "                                                     [key], {});\n",
              "          if (!dataTable) return;\n",
              "\n",
              "          const docLinkHtml = 'Like what you see? Visit the ' +\n",
              "            '<a target=\"_blank\" href=https://colab.research.google.com/notebooks/data_table.ipynb>data table notebook</a>'\n",
              "            + ' to learn more about interactive tables.';\n",
              "          element.innerHTML = '';\n",
              "          dataTable['output_type'] = 'display_data';\n",
              "          await google.colab.output.renderOutput(dataTable, element);\n",
              "          const docLink = document.createElement('div');\n",
              "          docLink.innerHTML = docLinkHtml;\n",
              "          element.appendChild(docLink);\n",
              "        }\n",
              "      </script>\n",
              "    </div>\n",
              "  </div>\n",
              "  "
            ]
          },
          "metadata": {},
          "execution_count": 52
        }
      ]
    },
    {
      "cell_type": "code",
      "source": [
        "#Melhores parametros do ARIMA; order e seasonal_order\n",
        "best_model = pmdarima.auto_arima(dtf['x'],                               \n",
        "                                 seasonal=True, stationary=False, \n",
        "                                 m=7, information_criterion='aic', \n",
        "                                 max_order=20,                                     \n",
        "                                 max_p=10, max_d=3, max_q=10,                                     \n",
        "                                 max_P=10, max_D=3, max_Q=10,                                   \n",
        "                                 error_action='ignore')\n",
        "print(\"best model --> (p, d, q):\", best_model.order, \" and  (P, D, Q, s):\", best_model.seasonal_order)"
      ],
      "metadata": {
        "colab": {
          "base_uri": "https://localhost:8080/"
        },
        "id": "V9MTjsFua8wC",
        "outputId": "17772fff-3371-4809-eabd-8a64553d1e52"
      },
      "execution_count": null,
      "outputs": [
        {
          "output_type": "stream",
          "name": "stdout",
          "text": [
            "best model --> (p, d, q): (2, 1, 3)  and  (P, D, Q, s): (0, 0, 0, 7)\n"
          ]
        }
      ]
    },
    {
      "cell_type": "code",
      "source": [
        "print(\"best model --> (p, d, q):\", best_model.order, \" and  (P, D, Q, s):\", best_model.seasonal_order)"
      ],
      "metadata": {
        "colab": {
          "base_uri": "https://localhost:8080/"
        },
        "id": "5kXN5ldYn_gW",
        "outputId": "b3417b8d-bc21-4888-946f-cd507db0383b"
      },
      "execution_count": null,
      "outputs": [
        {
          "output_type": "stream",
          "name": "stdout",
          "text": [
            "best model --> (p, d, q): (2, 1, 3)  and  (P, D, Q, s): (0, 0, 0, 7)\n"
          ]
        }
      ]
    },
    {
      "cell_type": "code",
      "source": [
        "model = pmdarima.auto_arima(\n",
        "  dtf['x'],\n",
        "\ttrace=True,\n",
        "\terror_action=\"ignore\",\n",
        "\tsuppress_warnings=True)\n",
        "\n",
        "print(\"best model --> (p, d, q):\", model.order, \" and  (P, D, Q, s):\", model.seasonal_order)"
      ],
      "metadata": {
        "colab": {
          "base_uri": "https://localhost:8080/"
        },
        "id": "Q8gIOAw9faxd",
        "outputId": "f17ad3db-e3ca-48be-d4b9-312443b09ce1"
      },
      "execution_count": null,
      "outputs": [
        {
          "output_type": "stream",
          "name": "stdout",
          "text": [
            "Performing stepwise search to minimize aic\n",
            " ARIMA(2,1,2)(0,0,0)[0] intercept   : AIC=8444.135, Time=10.60 sec\n",
            " ARIMA(0,1,0)(0,0,0)[0] intercept   : AIC=8445.830, Time=0.65 sec\n",
            " ARIMA(1,1,0)(0,0,0)[0] intercept   : AIC=8447.816, Time=0.40 sec\n",
            " ARIMA(0,1,1)(0,0,0)[0] intercept   : AIC=8447.816, Time=0.76 sec\n",
            " ARIMA(0,1,0)(0,0,0)[0]             : AIC=8444.310, Time=0.15 sec\n",
            " ARIMA(1,1,2)(0,0,0)[0] intercept   : AIC=8449.972, Time=3.39 sec\n",
            " ARIMA(2,1,1)(0,0,0)[0] intercept   : AIC=8449.828, Time=3.23 sec\n",
            " ARIMA(3,1,2)(0,0,0)[0] intercept   : AIC=8429.160, Time=11.01 sec\n",
            " ARIMA(3,1,1)(0,0,0)[0] intercept   : AIC=8443.842, Time=3.27 sec\n",
            " ARIMA(4,1,2)(0,0,0)[0] intercept   : AIC=8430.786, Time=13.87 sec\n",
            " ARIMA(3,1,3)(0,0,0)[0] intercept   : AIC=8430.384, Time=12.07 sec\n",
            " ARIMA(2,1,3)(0,0,0)[0] intercept   : AIC=8429.087, Time=9.59 sec\n",
            " ARIMA(1,1,3)(0,0,0)[0] intercept   : AIC=8443.303, Time=3.78 sec\n",
            " ARIMA(2,1,4)(0,0,0)[0] intercept   : AIC=8430.568, Time=13.29 sec\n",
            " ARIMA(1,1,4)(0,0,0)[0] intercept   : AIC=8441.509, Time=7.21 sec\n",
            " ARIMA(3,1,4)(0,0,0)[0] intercept   : AIC=8432.799, Time=20.04 sec\n",
            " ARIMA(2,1,3)(0,0,0)[0]             : AIC=8427.577, Time=4.44 sec\n",
            " ARIMA(1,1,3)(0,0,0)[0]             : AIC=8441.825, Time=1.48 sec\n",
            " ARIMA(2,1,2)(0,0,0)[0]             : AIC=8442.623, Time=3.66 sec\n",
            " ARIMA(3,1,3)(0,0,0)[0]             : AIC=8428.902, Time=6.09 sec\n",
            " ARIMA(2,1,4)(0,0,0)[0]             : AIC=8429.068, Time=5.50 sec\n",
            " ARIMA(1,1,2)(0,0,0)[0]             : AIC=8448.478, Time=2.24 sec\n",
            " ARIMA(1,1,4)(0,0,0)[0]             : AIC=8439.990, Time=4.26 sec\n",
            " ARIMA(3,1,2)(0,0,0)[0]             : AIC=8427.649, Time=3.86 sec\n",
            " ARIMA(3,1,4)(0,0,0)[0]             : AIC=8431.304, Time=4.90 sec\n",
            "\n",
            "Best model:  ARIMA(2,1,3)(0,0,0)[0]          \n",
            "Total fit time: 149.813 seconds\n",
            "best model --> (p, d, q): (2, 1, 3)  and  (P, D, Q, s): (0, 0, 0, 0)\n"
          ]
        }
      ]
    },
    {
      "cell_type": "code",
      "source": [
        "print(\"best model --> (p, d, q):\", model.order, \" and  (P, D, Q, s):\", model.seasonal_order)"
      ],
      "metadata": {
        "colab": {
          "base_uri": "https://localhost:8080/"
        },
        "id": "EGtz1ACLoBxo",
        "outputId": "f651715c-879d-4f0e-ebc9-0aabeeb9e051"
      },
      "execution_count": null,
      "outputs": [
        {
          "output_type": "stream",
          "name": "stdout",
          "text": [
            "best model --> (p, d, q): (2, 1, 3)  and  (P, D, Q, s): (0, 0, 0, 0)\n"
          ]
        }
      ]
    },
    {
      "cell_type": "code",
      "source": [
        "forecast = model.predict()\n",
        "forecast"
      ],
      "metadata": {
        "colab": {
          "base_uri": "https://localhost:8080/"
        },
        "id": "omJYT-SEhMti",
        "outputId": "494d7482-adb3-42d5-a8e2-6a570aebcd1d"
      },
      "execution_count": null,
      "outputs": [
        {
          "output_type": "stream",
          "name": "stderr",
          "text": [
            "/usr/local/lib/python3.7/dist-packages/statsmodels/tsa/base/tsa_model.py:843: ValueWarning: No supported index is available. Prediction results will be given with an integer index beginning at `start`.\n",
            "  data=self.data,\n"
          ]
        },
        {
          "output_type": "execute_result",
          "data": {
            "text/plain": [
              "5077    33.882215\n",
              "5078    33.756011\n",
              "5079    33.808730\n",
              "5080    33.876940\n",
              "5081    33.773717\n",
              "5082    33.798742\n",
              "5083    33.869517\n",
              "5084    33.788719\n",
              "5085    33.792898\n",
              "5086    33.861059\n",
              "dtype: float64"
            ]
          },
          "metadata": {},
          "execution_count": 56
        }
      ]
    },
    {
      "cell_type": "code",
      "source": [
        "forecast_best = best_model.predict()\n",
        "forecast_best"
      ],
      "metadata": {
        "colab": {
          "base_uri": "https://localhost:8080/"
        },
        "id": "Nv9IPtdbnv8K",
        "outputId": "ec36add3-bc65-4226-8893-98f28ab5753e"
      },
      "execution_count": null,
      "outputs": [
        {
          "output_type": "stream",
          "name": "stderr",
          "text": [
            "/usr/local/lib/python3.7/dist-packages/statsmodels/tsa/base/tsa_model.py:843: ValueWarning: No supported index is available. Prediction results will be given with an integer index beginning at `start`.\n",
            "  data=self.data,\n"
          ]
        },
        {
          "output_type": "execute_result",
          "data": {
            "text/plain": [
              "5077    33.882215\n",
              "5078    33.756011\n",
              "5079    33.808730\n",
              "5080    33.876940\n",
              "5081    33.773717\n",
              "5082    33.798742\n",
              "5083    33.869517\n",
              "5084    33.788719\n",
              "5085    33.792898\n",
              "5086    33.861059\n",
              "dtype: float64"
            ]
          },
          "metadata": {},
          "execution_count": 57
        }
      ]
    }
  ]
}