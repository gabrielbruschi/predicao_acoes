{
  "nbformat": 4,
  "nbformat_minor": 0,
  "metadata": {
    "colab": {
      "provenance": [],
      "collapsed_sections": [],
      "authorship_tag": "ABX9TyMUUvbrYtYyXJeb4QspYg0x",
      "include_colab_link": true
    },
    "kernelspec": {
      "name": "python3",
      "display_name": "Python 3"
    },
    "language_info": {
      "name": "python"
    },
    "accelerator": "GPU"
  },
  "cells": [
    {
      "cell_type": "markdown",
      "metadata": {
        "id": "view-in-github",
        "colab_type": "text"
      },
      "source": [
        "<a href=\"https://colab.research.google.com/github/gabrielbruschi/predicao_acoes/blob/main/rede_LSTM.ipynb\" target=\"_parent\"><img src=\"https://colab.research.google.com/assets/colab-badge.svg\" alt=\"Open In Colab\"/></a>"
      ]
    },
    {
      "cell_type": "code",
      "source": [
        "import numpy as np\n",
        "import pandas as pd\n",
        "import tensorflow as tf\n",
        "from tensorflow import keras\n",
        "from keras import layers\n",
        "from keras.models import Sequential\n",
        "from keras.layers import Dense, LSTM, Dropout\n",
        "from sklearn.preprocessing import StandardScaler #normalizar os dados\n",
        "import matplotlib.pyplot as plt #grafico\n",
        "from sklearn.model_selection import train_test_split #treinamento e teste"
      ],
      "metadata": {
        "id": "NGdZYvZqFQKy"
      },
      "execution_count": null,
      "outputs": []
    },
    {
      "cell_type": "code",
      "source": [
        "plt.style.use('ggplot')"
      ],
      "metadata": {
        "id": "Vv2WkpfW0B7B"
      },
      "execution_count": null,
      "outputs": []
    },
    {
      "cell_type": "markdown",
      "source": [
        "LSTM = long short term memory\n",
        "fazemos a previsao pra quantos dias pra frente"
      ],
      "metadata": {
        "id": "Cxw7gue-Fk1r"
      }
    },
    {
      "cell_type": "code",
      "source": [
        "df = pd.read_csv('PTR4_bovespa_tratado.csv')\n",
        "df"
      ],
      "metadata": {
        "id": "UOxqq_usZEKQ",
        "colab": {
          "base_uri": "https://localhost:8080/",
          "height": 424
        },
        "outputId": "69eb59fc-27f7-4d11-9ed5-ddc53a11cfcd"
      },
      "execution_count": null,
      "outputs": [
        {
          "output_type": "execute_result",
          "data": {
            "text/plain": [
              "      preco_abertura  preco_maximo  preco_minimo  preco_fechamento  \\\n",
              "0               6.39          6.39          6.39              6.39   \n",
              "1               6.45          6.49          6.39              6.41   \n",
              "2               6.49          6.50          6.42              6.45   \n",
              "3               6.38          6.45          6.32              6.41   \n",
              "4               6.38          6.60          6.38              6.55   \n",
              "...              ...           ...           ...               ...   \n",
              "5093           32.69         33.12         31.90             33.06   \n",
              "5094           32.70         33.04         32.06             32.16   \n",
              "5095           32.36         32.85         32.20             32.44   \n",
              "5096           32.78         33.91         32.69             33.57   \n",
              "5097           33.26         34.08         33.26             33.83   \n",
              "\n",
              "      qtd_negocios  volume_negocio data_pregao  \n",
              "0         3.186628             0.0  2002-01-01  \n",
              "1         3.192857      23920000.0  2002-01-02  \n",
              "2         3.214662      39043200.0  2002-01-03  \n",
              "3         3.194726      21500800.0  2002-01-04  \n",
              "4         3.264501      40406400.0  2002-01-07  \n",
              "...            ...             ...         ...  \n",
              "5093     33.060001     129570200.0  2022-05-06  \n",
              "5094     32.160000      92314500.0  2022-05-09  \n",
              "5095     32.439999      60330600.0  2022-05-10  \n",
              "5096     33.570000     108895400.0  2022-05-11  \n",
              "5097     33.830002     114415900.0  2022-05-12  \n",
              "\n",
              "[5098 rows x 7 columns]"
            ],
            "text/html": [
              "\n",
              "  <div id=\"df-056f5bb4-56e2-41d0-91fe-ee69a769b554\">\n",
              "    <div class=\"colab-df-container\">\n",
              "      <div>\n",
              "<style scoped>\n",
              "    .dataframe tbody tr th:only-of-type {\n",
              "        vertical-align: middle;\n",
              "    }\n",
              "\n",
              "    .dataframe tbody tr th {\n",
              "        vertical-align: top;\n",
              "    }\n",
              "\n",
              "    .dataframe thead th {\n",
              "        text-align: right;\n",
              "    }\n",
              "</style>\n",
              "<table border=\"1\" class=\"dataframe\">\n",
              "  <thead>\n",
              "    <tr style=\"text-align: right;\">\n",
              "      <th></th>\n",
              "      <th>preco_abertura</th>\n",
              "      <th>preco_maximo</th>\n",
              "      <th>preco_minimo</th>\n",
              "      <th>preco_fechamento</th>\n",
              "      <th>qtd_negocios</th>\n",
              "      <th>volume_negocio</th>\n",
              "      <th>data_pregao</th>\n",
              "    </tr>\n",
              "  </thead>\n",
              "  <tbody>\n",
              "    <tr>\n",
              "      <th>0</th>\n",
              "      <td>6.39</td>\n",
              "      <td>6.39</td>\n",
              "      <td>6.39</td>\n",
              "      <td>6.39</td>\n",
              "      <td>3.186628</td>\n",
              "      <td>0.0</td>\n",
              "      <td>2002-01-01</td>\n",
              "    </tr>\n",
              "    <tr>\n",
              "      <th>1</th>\n",
              "      <td>6.45</td>\n",
              "      <td>6.49</td>\n",
              "      <td>6.39</td>\n",
              "      <td>6.41</td>\n",
              "      <td>3.192857</td>\n",
              "      <td>23920000.0</td>\n",
              "      <td>2002-01-02</td>\n",
              "    </tr>\n",
              "    <tr>\n",
              "      <th>2</th>\n",
              "      <td>6.49</td>\n",
              "      <td>6.50</td>\n",
              "      <td>6.42</td>\n",
              "      <td>6.45</td>\n",
              "      <td>3.214662</td>\n",
              "      <td>39043200.0</td>\n",
              "      <td>2002-01-03</td>\n",
              "    </tr>\n",
              "    <tr>\n",
              "      <th>3</th>\n",
              "      <td>6.38</td>\n",
              "      <td>6.45</td>\n",
              "      <td>6.32</td>\n",
              "      <td>6.41</td>\n",
              "      <td>3.194726</td>\n",
              "      <td>21500800.0</td>\n",
              "      <td>2002-01-04</td>\n",
              "    </tr>\n",
              "    <tr>\n",
              "      <th>4</th>\n",
              "      <td>6.38</td>\n",
              "      <td>6.60</td>\n",
              "      <td>6.38</td>\n",
              "      <td>6.55</td>\n",
              "      <td>3.264501</td>\n",
              "      <td>40406400.0</td>\n",
              "      <td>2002-01-07</td>\n",
              "    </tr>\n",
              "    <tr>\n",
              "      <th>...</th>\n",
              "      <td>...</td>\n",
              "      <td>...</td>\n",
              "      <td>...</td>\n",
              "      <td>...</td>\n",
              "      <td>...</td>\n",
              "      <td>...</td>\n",
              "      <td>...</td>\n",
              "    </tr>\n",
              "    <tr>\n",
              "      <th>5093</th>\n",
              "      <td>32.69</td>\n",
              "      <td>33.12</td>\n",
              "      <td>31.90</td>\n",
              "      <td>33.06</td>\n",
              "      <td>33.060001</td>\n",
              "      <td>129570200.0</td>\n",
              "      <td>2022-05-06</td>\n",
              "    </tr>\n",
              "    <tr>\n",
              "      <th>5094</th>\n",
              "      <td>32.70</td>\n",
              "      <td>33.04</td>\n",
              "      <td>32.06</td>\n",
              "      <td>32.16</td>\n",
              "      <td>32.160000</td>\n",
              "      <td>92314500.0</td>\n",
              "      <td>2022-05-09</td>\n",
              "    </tr>\n",
              "    <tr>\n",
              "      <th>5095</th>\n",
              "      <td>32.36</td>\n",
              "      <td>32.85</td>\n",
              "      <td>32.20</td>\n",
              "      <td>32.44</td>\n",
              "      <td>32.439999</td>\n",
              "      <td>60330600.0</td>\n",
              "      <td>2022-05-10</td>\n",
              "    </tr>\n",
              "    <tr>\n",
              "      <th>5096</th>\n",
              "      <td>32.78</td>\n",
              "      <td>33.91</td>\n",
              "      <td>32.69</td>\n",
              "      <td>33.57</td>\n",
              "      <td>33.570000</td>\n",
              "      <td>108895400.0</td>\n",
              "      <td>2022-05-11</td>\n",
              "    </tr>\n",
              "    <tr>\n",
              "      <th>5097</th>\n",
              "      <td>33.26</td>\n",
              "      <td>34.08</td>\n",
              "      <td>33.26</td>\n",
              "      <td>33.83</td>\n",
              "      <td>33.830002</td>\n",
              "      <td>114415900.0</td>\n",
              "      <td>2022-05-12</td>\n",
              "    </tr>\n",
              "  </tbody>\n",
              "</table>\n",
              "<p>5098 rows × 7 columns</p>\n",
              "</div>\n",
              "      <button class=\"colab-df-convert\" onclick=\"convertToInteractive('df-056f5bb4-56e2-41d0-91fe-ee69a769b554')\"\n",
              "              title=\"Convert this dataframe to an interactive table.\"\n",
              "              style=\"display:none;\">\n",
              "        \n",
              "  <svg xmlns=\"http://www.w3.org/2000/svg\" height=\"24px\"viewBox=\"0 0 24 24\"\n",
              "       width=\"24px\">\n",
              "    <path d=\"M0 0h24v24H0V0z\" fill=\"none\"/>\n",
              "    <path d=\"M18.56 5.44l.94 2.06.94-2.06 2.06-.94-2.06-.94-.94-2.06-.94 2.06-2.06.94zm-11 1L8.5 8.5l.94-2.06 2.06-.94-2.06-.94L8.5 2.5l-.94 2.06-2.06.94zm10 10l.94 2.06.94-2.06 2.06-.94-2.06-.94-.94-2.06-.94 2.06-2.06.94z\"/><path d=\"M17.41 7.96l-1.37-1.37c-.4-.4-.92-.59-1.43-.59-.52 0-1.04.2-1.43.59L10.3 9.45l-7.72 7.72c-.78.78-.78 2.05 0 2.83L4 21.41c.39.39.9.59 1.41.59.51 0 1.02-.2 1.41-.59l7.78-7.78 2.81-2.81c.8-.78.8-2.07 0-2.86zM5.41 20L4 18.59l7.72-7.72 1.47 1.35L5.41 20z\"/>\n",
              "  </svg>\n",
              "      </button>\n",
              "      \n",
              "  <style>\n",
              "    .colab-df-container {\n",
              "      display:flex;\n",
              "      flex-wrap:wrap;\n",
              "      gap: 12px;\n",
              "    }\n",
              "\n",
              "    .colab-df-convert {\n",
              "      background-color: #E8F0FE;\n",
              "      border: none;\n",
              "      border-radius: 50%;\n",
              "      cursor: pointer;\n",
              "      display: none;\n",
              "      fill: #1967D2;\n",
              "      height: 32px;\n",
              "      padding: 0 0 0 0;\n",
              "      width: 32px;\n",
              "    }\n",
              "\n",
              "    .colab-df-convert:hover {\n",
              "      background-color: #E2EBFA;\n",
              "      box-shadow: 0px 1px 2px rgba(60, 64, 67, 0.3), 0px 1px 3px 1px rgba(60, 64, 67, 0.15);\n",
              "      fill: #174EA6;\n",
              "    }\n",
              "\n",
              "    [theme=dark] .colab-df-convert {\n",
              "      background-color: #3B4455;\n",
              "      fill: #D2E3FC;\n",
              "    }\n",
              "\n",
              "    [theme=dark] .colab-df-convert:hover {\n",
              "      background-color: #434B5C;\n",
              "      box-shadow: 0px 1px 3px 1px rgba(0, 0, 0, 0.15);\n",
              "      filter: drop-shadow(0px 1px 2px rgba(0, 0, 0, 0.3));\n",
              "      fill: #FFFFFF;\n",
              "    }\n",
              "  </style>\n",
              "\n",
              "      <script>\n",
              "        const buttonEl =\n",
              "          document.querySelector('#df-056f5bb4-56e2-41d0-91fe-ee69a769b554 button.colab-df-convert');\n",
              "        buttonEl.style.display =\n",
              "          google.colab.kernel.accessAllowed ? 'block' : 'none';\n",
              "\n",
              "        async function convertToInteractive(key) {\n",
              "          const element = document.querySelector('#df-056f5bb4-56e2-41d0-91fe-ee69a769b554');\n",
              "          const dataTable =\n",
              "            await google.colab.kernel.invokeFunction('convertToInteractive',\n",
              "                                                     [key], {});\n",
              "          if (!dataTable) return;\n",
              "\n",
              "          const docLinkHtml = 'Like what you see? Visit the ' +\n",
              "            '<a target=\"_blank\" href=https://colab.research.google.com/notebooks/data_table.ipynb>data table notebook</a>'\n",
              "            + ' to learn more about interactive tables.';\n",
              "          element.innerHTML = '';\n",
              "          dataTable['output_type'] = 'display_data';\n",
              "          await google.colab.output.renderOutput(dataTable, element);\n",
              "          const docLink = document.createElement('div');\n",
              "          docLink.innerHTML = docLinkHtml;\n",
              "          element.appendChild(docLink);\n",
              "        }\n",
              "      </script>\n",
              "    </div>\n",
              "  </div>\n",
              "  "
            ]
          },
          "metadata": {},
          "execution_count": 2
        }
      ]
    },
    {
      "cell_type": "code",
      "source": [
        "df = df.dropna()"
      ],
      "metadata": {
        "id": "p3yef9lVjLbX"
      },
      "execution_count": null,
      "outputs": []
    },
    {
      "cell_type": "code",
      "source": [
        "#formatar a data\n",
        "#df['data_pregao'] = pd.to_datetime(df['data_pregao'], format = '%Y-%m-%d') #talvez alterar no ETL, ai n preciso ajustar aqui\n",
        "#df['data_pregao,sigla_acao,nome_acao,preco_abertura,preco_maximo,preco_minimo,preco_fechamento,qtd_negocios,volume_negocio,data_pregrao']"
      ],
      "metadata": {
        "id": "0dYaUBXbZXsr"
      },
      "execution_count": null,
      "outputs": []
    },
    {
      "cell_type": "code",
      "source": [
        "# Filtrar acao\n",
        "#df_acao = df[df['sigla_acao'] == 'PETR4']"
      ],
      "metadata": {
        "id": "pL8mdlqaaosk"
      },
      "execution_count": null,
      "outputs": []
    },
    {
      "cell_type": "code",
      "source": [
        "#Selecionar os campos, pode ser utilizado diversas features\n",
        "\n",
        "df_acao_fec = df[['data_pregao', 'preco_fechamento']]"
      ],
      "metadata": {
        "id": "_VNnPQwQa2Q4"
      },
      "execution_count": null,
      "outputs": []
    },
    {
      "cell_type": "code",
      "source": [
        "#Ajustar o index, a data 'e o index\n",
        "df_acao_fec = df_acao_fec.set_index(pd.DatetimeIndex(df_acao_fec['data_pregao'].values))"
      ],
      "metadata": {
        "id": "SVB2Y1nzbEiH"
      },
      "execution_count": null,
      "outputs": []
    },
    {
      "cell_type": "code",
      "source": [
        "#Retirar coluna do data pregao\n",
        "df_acao_fec.drop('data_pregao', axis=1, inplace=True)"
      ],
      "metadata": {
        "id": "xUpBrv5WbEmU"
      },
      "execution_count": null,
      "outputs": []
    },
    {
      "cell_type": "code",
      "source": [
        "df_acao_fec"
      ],
      "metadata": {
        "colab": {
          "base_uri": "https://localhost:8080/",
          "height": 424
        },
        "id": "bE536aPkdv-M",
        "outputId": "28858bcd-aca4-487b-ddf6-29af0f6d96b9"
      },
      "execution_count": null,
      "outputs": [
        {
          "output_type": "execute_result",
          "data": {
            "text/plain": [
              "            preco_fechamento\n",
              "2002-01-01              6.39\n",
              "2002-01-02              6.41\n",
              "2002-01-03              6.45\n",
              "2002-01-04              6.41\n",
              "2002-01-07              6.55\n",
              "...                      ...\n",
              "2022-05-06             33.06\n",
              "2022-05-09             32.16\n",
              "2022-05-10             32.44\n",
              "2022-05-11             33.57\n",
              "2022-05-12             33.83\n",
              "\n",
              "[5077 rows x 1 columns]"
            ],
            "text/html": [
              "\n",
              "  <div id=\"df-a50c8577-13a3-4350-8554-069043ca7a93\">\n",
              "    <div class=\"colab-df-container\">\n",
              "      <div>\n",
              "<style scoped>\n",
              "    .dataframe tbody tr th:only-of-type {\n",
              "        vertical-align: middle;\n",
              "    }\n",
              "\n",
              "    .dataframe tbody tr th {\n",
              "        vertical-align: top;\n",
              "    }\n",
              "\n",
              "    .dataframe thead th {\n",
              "        text-align: right;\n",
              "    }\n",
              "</style>\n",
              "<table border=\"1\" class=\"dataframe\">\n",
              "  <thead>\n",
              "    <tr style=\"text-align: right;\">\n",
              "      <th></th>\n",
              "      <th>preco_fechamento</th>\n",
              "    </tr>\n",
              "  </thead>\n",
              "  <tbody>\n",
              "    <tr>\n",
              "      <th>2002-01-01</th>\n",
              "      <td>6.39</td>\n",
              "    </tr>\n",
              "    <tr>\n",
              "      <th>2002-01-02</th>\n",
              "      <td>6.41</td>\n",
              "    </tr>\n",
              "    <tr>\n",
              "      <th>2002-01-03</th>\n",
              "      <td>6.45</td>\n",
              "    </tr>\n",
              "    <tr>\n",
              "      <th>2002-01-04</th>\n",
              "      <td>6.41</td>\n",
              "    </tr>\n",
              "    <tr>\n",
              "      <th>2002-01-07</th>\n",
              "      <td>6.55</td>\n",
              "    </tr>\n",
              "    <tr>\n",
              "      <th>...</th>\n",
              "      <td>...</td>\n",
              "    </tr>\n",
              "    <tr>\n",
              "      <th>2022-05-06</th>\n",
              "      <td>33.06</td>\n",
              "    </tr>\n",
              "    <tr>\n",
              "      <th>2022-05-09</th>\n",
              "      <td>32.16</td>\n",
              "    </tr>\n",
              "    <tr>\n",
              "      <th>2022-05-10</th>\n",
              "      <td>32.44</td>\n",
              "    </tr>\n",
              "    <tr>\n",
              "      <th>2022-05-11</th>\n",
              "      <td>33.57</td>\n",
              "    </tr>\n",
              "    <tr>\n",
              "      <th>2022-05-12</th>\n",
              "      <td>33.83</td>\n",
              "    </tr>\n",
              "  </tbody>\n",
              "</table>\n",
              "<p>5077 rows × 1 columns</p>\n",
              "</div>\n",
              "      <button class=\"colab-df-convert\" onclick=\"convertToInteractive('df-a50c8577-13a3-4350-8554-069043ca7a93')\"\n",
              "              title=\"Convert this dataframe to an interactive table.\"\n",
              "              style=\"display:none;\">\n",
              "        \n",
              "  <svg xmlns=\"http://www.w3.org/2000/svg\" height=\"24px\"viewBox=\"0 0 24 24\"\n",
              "       width=\"24px\">\n",
              "    <path d=\"M0 0h24v24H0V0z\" fill=\"none\"/>\n",
              "    <path d=\"M18.56 5.44l.94 2.06.94-2.06 2.06-.94-2.06-.94-.94-2.06-.94 2.06-2.06.94zm-11 1L8.5 8.5l.94-2.06 2.06-.94-2.06-.94L8.5 2.5l-.94 2.06-2.06.94zm10 10l.94 2.06.94-2.06 2.06-.94-2.06-.94-.94-2.06-.94 2.06-2.06.94z\"/><path d=\"M17.41 7.96l-1.37-1.37c-.4-.4-.92-.59-1.43-.59-.52 0-1.04.2-1.43.59L10.3 9.45l-7.72 7.72c-.78.78-.78 2.05 0 2.83L4 21.41c.39.39.9.59 1.41.59.51 0 1.02-.2 1.41-.59l7.78-7.78 2.81-2.81c.8-.78.8-2.07 0-2.86zM5.41 20L4 18.59l7.72-7.72 1.47 1.35L5.41 20z\"/>\n",
              "  </svg>\n",
              "      </button>\n",
              "      \n",
              "  <style>\n",
              "    .colab-df-container {\n",
              "      display:flex;\n",
              "      flex-wrap:wrap;\n",
              "      gap: 12px;\n",
              "    }\n",
              "\n",
              "    .colab-df-convert {\n",
              "      background-color: #E8F0FE;\n",
              "      border: none;\n",
              "      border-radius: 50%;\n",
              "      cursor: pointer;\n",
              "      display: none;\n",
              "      fill: #1967D2;\n",
              "      height: 32px;\n",
              "      padding: 0 0 0 0;\n",
              "      width: 32px;\n",
              "    }\n",
              "\n",
              "    .colab-df-convert:hover {\n",
              "      background-color: #E2EBFA;\n",
              "      box-shadow: 0px 1px 2px rgba(60, 64, 67, 0.3), 0px 1px 3px 1px rgba(60, 64, 67, 0.15);\n",
              "      fill: #174EA6;\n",
              "    }\n",
              "\n",
              "    [theme=dark] .colab-df-convert {\n",
              "      background-color: #3B4455;\n",
              "      fill: #D2E3FC;\n",
              "    }\n",
              "\n",
              "    [theme=dark] .colab-df-convert:hover {\n",
              "      background-color: #434B5C;\n",
              "      box-shadow: 0px 1px 3px 1px rgba(0, 0, 0, 0.15);\n",
              "      filter: drop-shadow(0px 1px 2px rgba(0, 0, 0, 0.3));\n",
              "      fill: #FFFFFF;\n",
              "    }\n",
              "  </style>\n",
              "\n",
              "      <script>\n",
              "        const buttonEl =\n",
              "          document.querySelector('#df-a50c8577-13a3-4350-8554-069043ca7a93 button.colab-df-convert');\n",
              "        buttonEl.style.display =\n",
              "          google.colab.kernel.accessAllowed ? 'block' : 'none';\n",
              "\n",
              "        async function convertToInteractive(key) {\n",
              "          const element = document.querySelector('#df-a50c8577-13a3-4350-8554-069043ca7a93');\n",
              "          const dataTable =\n",
              "            await google.colab.kernel.invokeFunction('convertToInteractive',\n",
              "                                                     [key], {});\n",
              "          if (!dataTable) return;\n",
              "\n",
              "          const docLinkHtml = 'Like what you see? Visit the ' +\n",
              "            '<a target=\"_blank\" href=https://colab.research.google.com/notebooks/data_table.ipynb>data table notebook</a>'\n",
              "            + ' to learn more about interactive tables.';\n",
              "          element.innerHTML = '';\n",
              "          dataTable['output_type'] = 'display_data';\n",
              "          await google.colab.output.renderOutput(dataTable, element);\n",
              "          const docLink = document.createElement('div');\n",
              "          docLink.innerHTML = docLinkHtml;\n",
              "          element.appendChild(docLink);\n",
              "        }\n",
              "      </script>\n",
              "    </div>\n",
              "  </div>\n",
              "  "
            ]
          },
          "metadata": {},
          "execution_count": 9
        }
      ]
    },
    {
      "cell_type": "code",
      "source": [
        "#plotar informacao\n",
        "plt.figure(figsize=(16,8))\n",
        "plt.title('Preco de fechamento')\n",
        "plt.plot(df_acao_fec['preco_fechamento'])\n",
        "plt.xlabel('data')"
      ],
      "metadata": {
        "id": "4S90yY7bbnU-",
        "colab": {
          "base_uri": "https://localhost:8080/",
          "height": 530
        },
        "outputId": "48d1317d-6bd7-4cc9-8f90-62431e4d2735"
      },
      "execution_count": null,
      "outputs": [
        {
          "output_type": "execute_result",
          "data": {
            "text/plain": [
              "Text(0.5, 0, 'data')"
            ]
          },
          "metadata": {},
          "execution_count": 10
        },
        {
          "output_type": "display_data",
          "data": {
            "text/plain": [
              "<Figure size 1152x576 with 1 Axes>"
            ],
            "image/png": "[encoded data removed]"
          },
          "metadata": {
            "needs_background": "light"
          }
        }
      ]
    },
    {
      "cell_type": "code",
      "source": [
        "#verificar a quantidade de linhas\n",
        "qtd_linhas = len(df_acao_fec)\n",
        "\n",
        "qtd_linhas_treino = round(.70 * qtd_linhas)\n",
        "qtd_linhas_teste = qtd_linhas - qtd_linhas_treino\n",
        "\n",
        "info = (\n",
        "    f\"linhas treino = 0{qtd_linhas_treino}\"\n",
        "    f\"linhas teste = {qtd_linhas_treino}:{qtd_linhas_treino + qtd_linhas_teste}\"\n",
        ")\n",
        "\n",
        "info"
      ],
      "metadata": {
        "id": "lmdSEGoecETm",
        "colab": {
          "base_uri": "https://localhost:8080/",
          "height": 35
        },
        "outputId": "b2dcf86a-1687-4892-b6bf-42450df56a3d"
      },
      "execution_count": null,
      "outputs": [
        {
          "output_type": "execute_result",
          "data": {
            "text/plain": [
              "'linhas treino = 03554linhas teste = 3554:5077'"
            ],
            "application/vnd.google.colaboratory.intrinsic+json": {
              "type": "string"
            }
          },
          "metadata": {},
          "execution_count": 11
        }
      ]
    },
    {
      "cell_type": "code",
      "source": [
        "#nao queremos q o algortmo entenda que um valor alto 'e melhor\n",
        "\n",
        "#Normalizar os dados\n",
        "scaler = StandardScaler()\n",
        "df_scaled = scaler.fit_transform(df_acao_fec)"
      ],
      "metadata": {
        "id": "eGV8dXpdcr-H"
      },
      "execution_count": null,
      "outputs": []
    },
    {
      "cell_type": "code",
      "source": [
        "#Separa em treino e teste\n",
        "train = df_scaled[:qtd_linhas_treino]\n",
        "test = df_scaled[qtd_linhas_treino: qtd_linhas_treino + qtd_linhas_teste] \n",
        "\n",
        "print( len(train), len(test))\n",
        "\n",
        "#n foi utilizado o train test split para manter a ordem, a ordem 'e importante em series temporais. Valores posteriores 'e intrisicamente relacionado a valores anteriores, por isso a separacao manual"
      ],
      "metadata": {
        "id": "SseJ31o-c93A",
        "colab": {
          "base_uri": "https://localhost:8080/"
        },
        "outputId": "ab321e84-19db-4184-9e92-0c839db00918"
      },
      "execution_count": null,
      "outputs": [
        {
          "output_type": "stream",
          "name": "stdout",
          "text": [
            "3554 1523\n"
          ]
        }
      ]
    },
    {
      "cell_type": "code",
      "source": [
        "#Convert an array of values into a df matrix\n",
        "#Rede LSTM\n",
        "def create_df(df, steps=1):\n",
        "  dataX, dataY = [], []\n",
        "  for i in range(len(df) - steps - 1):\n",
        "    a = df[i:(i+steps), 0]\n",
        "    dataX.append(a)\n",
        "    dataY.append(df[i + steps, 0])\n",
        "  return np.array(dataX), np.array(dataY)"
      ],
      "metadata": {
        "id": "5yCLtjH7dv18"
      },
      "execution_count": null,
      "outputs": []
    },
    {
      "cell_type": "code",
      "source": [
        "#Gerando dados de treino e teste\n",
        "steps = 15 \n",
        "X_train, Y_train = create_df(train, steps)\n",
        "X_test, Y_test = create_df(test, steps)"
      ],
      "metadata": {
        "id": "kYN2dRg-e3d5"
      },
      "execution_count": null,
      "outputs": []
    },
    {
      "cell_type": "code",
      "source": [
        "print(X_train.shape)\n",
        "print(Y_train.shape)\n",
        "print(X_test.shape)\n",
        "print(Y_test.shape)"
      ],
      "metadata": {
        "id": "F1Yu9bLXfJu5",
        "colab": {
          "base_uri": "https://localhost:8080/"
        },
        "outputId": "60770971-62c8-4b85-df80-ea2a96c63374"
      },
      "execution_count": null,
      "outputs": [
        {
          "output_type": "stream",
          "name": "stdout",
          "text": [
            "(3538, 15)\n",
            "(3538,)\n",
            "(1507, 15)\n",
            "(1507,)\n"
          ]
        }
      ]
    },
    {
      "cell_type": "code",
      "source": [
        "# Gerando os dados que o modelo espera\n",
        "X_train = X_train.reshape(X_train.shape[0], X_train.shape[1], 1) #1 'e a qntd de features\n",
        "X_test = X_test.reshape(X_test.shape[0], X_test.shape[1], 1)"
      ],
      "metadata": {
        "id": "R_cUSU-GfacE"
      },
      "execution_count": null,
      "outputs": []
    },
    {
      "cell_type": "code",
      "source": [
        "#Montando a rede\n",
        "model = Sequential()\n",
        "model.add(LSTM(35, return_sequences=True, input_shape=(steps, 1))) #35 neuronios, o return_seq = true : pega a informacao q sai e reinsere, dados com memoria\n",
        "model.add(LSTM(35, return_sequences=True))\n",
        "model.add(LSTM(35))\n",
        "model.add(Dropout(0.05)) #ANTES ERA 0.2 #nao causar um overfit (rede muito treinada), dou uma penalizada na feature\n",
        "model.add(Dense(1)) #saida unica do preco que queremos prever"
      ],
      "metadata": {
        "id": "pySxYCuyf2nX"
      },
      "execution_count": null,
      "outputs": []
    },
    {
      "cell_type": "code",
      "source": [
        "model.compile(optimizer='adam', loss='mse') #adam mais usado, loss: minimun sequer error, ver o quanto minha rede esta performando\n",
        "model.summary()"
      ],
      "metadata": {
        "id": "DiY_1w3ehkZQ",
        "colab": {
          "base_uri": "https://localhost:8080/"
        },
        "outputId": "ee43c215-3d87-4157-ebd7-4670bc77d982"
      },
      "execution_count": null,
      "outputs": [
        {
          "output_type": "stream",
          "name": "stdout",
          "text": [
            "Model: \"sequential\"\n",
            "_________________________________________________________________\n",
            " Layer (type)                Output Shape              Param #   \n",
            "=================================================================\n",
            " lstm (LSTM)                 (None, 15, 35)            5180      \n",
            "                                                                 \n",
            " lstm_1 (LSTM)               (None, 15, 35)            9940      \n",
            "                                                                 \n",
            " lstm_2 (LSTM)               (None, 35)                9940      \n",
            "                                                                 \n",
            " dropout (Dropout)           (None, 35)                0         \n",
            "                                                                 \n",
            " dense (Dense)               (None, 1)                 36        \n",
            "                                                                 \n",
            "=================================================================\n",
            "Total params: 25,096\n",
            "Trainable params: 25,096\n",
            "Non-trainable params: 0\n",
            "_________________________________________________________________\n"
          ]
        }
      ]
    },
    {
      "cell_type": "code",
      "source": [
        "#Treinamento do modelo\n",
        "validation = model.fit(X_train, Y_train, validation_data=(X_test, Y_test), epochs=200, batch_size=15, verbose=2)\n",
        "# ele vai validando para ver como esta perfomando, batch_size 'e quantidade de dias pra tras, verbose pra ver como as informacoes estao sendo plotadas"
      ],
      "metadata": {
        "id": "GpeeHlAUh2zO",
        "colab": {
          "base_uri": "https://localhost:8080/"
        },
        "outputId": "daa3e36a-eb90-4db7-84f6-c3b99d31b8c4"
      },
      "execution_count": null,
      "outputs": [
        {
          "output_type": "stream",
          "name": "stdout",
          "text": [
            "Epoch 1/200\n",
            "236/236 - 15s - loss: 0.0767 - val_loss: 0.0456 - 15s/epoch - 64ms/step\n",
            "Epoch 2/200\n",
            "236/236 - 3s - loss: 0.0248 - val_loss: 0.0270 - 3s/epoch - 11ms/step\n",
            "Epoch 3/200\n",
            "236/236 - 2s - loss: 0.0198 - val_loss: 0.0225 - 2s/epoch - 9ms/step\n",
            "Epoch 4/200\n",
            "236/236 - 2s - loss: 0.0183 - val_loss: 0.0178 - 2s/epoch - 8ms/step\n",
            "Epoch 5/200\n",
            "236/236 - 2s - loss: 0.0171 - val_loss: 0.0176 - 2s/epoch - 9ms/step\n",
            "Epoch 6/200\n",
            "236/236 - 2s - loss: 0.0149 - val_loss: 0.0156 - 2s/epoch - 8ms/step\n",
            "Epoch 7/200\n",
            "236/236 - 2s - loss: 0.0125 - val_loss: 0.0120 - 2s/epoch - 8ms/step\n",
            "Epoch 8/200\n",
            "236/236 - 2s - loss: 0.0124 - val_loss: 0.0125 - 2s/epoch - 9ms/step\n",
            "Epoch 9/200\n",
            "236/236 - 2s - loss: 0.0102 - val_loss: 0.0104 - 2s/epoch - 8ms/step\n",
            "Epoch 10/200\n",
            "236/236 - 2s - loss: 0.0096 - val_loss: 0.0089 - 2s/epoch - 8ms/step\n",
            "Epoch 11/200\n",
            "236/236 - 2s - loss: 0.0096 - val_loss: 0.0080 - 2s/epoch - 8ms/step\n",
            "Epoch 12/200\n",
            "236/236 - 2s - loss: 0.0091 - val_loss: 0.0083 - 2s/epoch - 8ms/step\n",
            "Epoch 13/200\n",
            "236/236 - 2s - loss: 0.0077 - val_loss: 0.0082 - 2s/epoch - 8ms/step\n",
            "Epoch 14/200\n",
            "236/236 - 2s - loss: 0.0079 - val_loss: 0.0061 - 2s/epoch - 9ms/step\n",
            "Epoch 15/200\n",
            "236/236 - 2s - loss: 0.0076 - val_loss: 0.0062 - 2s/epoch - 8ms/step\n",
            "Epoch 16/200\n",
            "236/236 - 2s - loss: 0.0069 - val_loss: 0.0055 - 2s/epoch - 8ms/step\n",
            "Epoch 17/200\n",
            "236/236 - 2s - loss: 0.0073 - val_loss: 0.0053 - 2s/epoch - 8ms/step\n",
            "Epoch 18/200\n",
            "236/236 - 2s - loss: 0.0071 - val_loss: 0.0055 - 2s/epoch - 8ms/step\n",
            "Epoch 19/200\n",
            "236/236 - 2s - loss: 0.0063 - val_loss: 0.0061 - 2s/epoch - 8ms/step\n",
            "Epoch 20/200\n",
            "236/236 - 2s - loss: 0.0066 - val_loss: 0.0071 - 2s/epoch - 8ms/step\n",
            "Epoch 21/200\n",
            "236/236 - 2s - loss: 0.0065 - val_loss: 0.0055 - 2s/epoch - 8ms/step\n",
            "Epoch 22/200\n",
            "236/236 - 2s - loss: 0.0065 - val_loss: 0.0050 - 2s/epoch - 8ms/step\n",
            "Epoch 23/200\n",
            "236/236 - 2s - loss: 0.0060 - val_loss: 0.0070 - 2s/epoch - 8ms/step\n",
            "Epoch 24/200\n",
            "236/236 - 2s - loss: 0.0069 - val_loss: 0.0049 - 2s/epoch - 8ms/step\n",
            "Epoch 25/200\n",
            "236/236 - 2s - loss: 0.0064 - val_loss: 0.0055 - 2s/epoch - 8ms/step\n",
            "Epoch 26/200\n",
            "236/236 - 2s - loss: 0.0065 - val_loss: 0.0057 - 2s/epoch - 8ms/step\n",
            "Epoch 27/200\n",
            "236/236 - 2s - loss: 0.0062 - val_loss: 0.0049 - 2s/epoch - 8ms/step\n",
            "Epoch 28/200\n",
            "236/236 - 2s - loss: 0.0060 - val_loss: 0.0049 - 2s/epoch - 8ms/step\n",
            "Epoch 29/200\n",
            "236/236 - 2s - loss: 0.0056 - val_loss: 0.0053 - 2s/epoch - 8ms/step\n",
            "Epoch 30/200\n",
            "236/236 - 2s - loss: 0.0068 - val_loss: 0.0057 - 2s/epoch - 8ms/step\n",
            "Epoch 31/200\n",
            "236/236 - 2s - loss: 0.0061 - val_loss: 0.0051 - 2s/epoch - 8ms/step\n",
            "Epoch 32/200\n",
            "236/236 - 2s - loss: 0.0070 - val_loss: 0.0050 - 2s/epoch - 8ms/step\n",
            "Epoch 33/200\n",
            "236/236 - 2s - loss: 0.0062 - val_loss: 0.0050 - 2s/epoch - 9ms/step\n",
            "Epoch 34/200\n",
            "236/236 - 2s - loss: 0.0061 - val_loss: 0.0049 - 2s/epoch - 8ms/step\n",
            "Epoch 35/200\n",
            "236/236 - 2s - loss: 0.0065 - val_loss: 0.0061 - 2s/epoch - 9ms/step\n",
            "Epoch 36/200\n",
            "236/236 - 2s - loss: 0.0068 - val_loss: 0.0056 - 2s/epoch - 10ms/step\n",
            "Epoch 37/200\n",
            "236/236 - 2s - loss: 0.0062 - val_loss: 0.0063 - 2s/epoch - 8ms/step\n",
            "Epoch 38/200\n",
            "236/236 - 2s - loss: 0.0064 - val_loss: 0.0056 - 2s/epoch - 9ms/step\n",
            "Epoch 39/200\n",
            "236/236 - 2s - loss: 0.0062 - val_loss: 0.0056 - 2s/epoch - 8ms/step\n",
            "Epoch 40/200\n",
            "236/236 - 2s - loss: 0.0061 - val_loss: 0.0050 - 2s/epoch - 8ms/step\n",
            "Epoch 41/200\n",
            "236/236 - 2s - loss: 0.0062 - val_loss: 0.0050 - 2s/epoch - 10ms/step\n",
            "Epoch 42/200\n",
            "236/236 - 2s - loss: 0.0060 - val_loss: 0.0049 - 2s/epoch - 10ms/step\n",
            "Epoch 43/200\n",
            "236/236 - 2s - loss: 0.0057 - val_loss: 0.0054 - 2s/epoch - 9ms/step\n",
            "Epoch 44/200\n",
            "236/236 - 2s - loss: 0.0062 - val_loss: 0.0052 - 2s/epoch - 8ms/step\n",
            "Epoch 45/200\n",
            "236/236 - 2s - loss: 0.0062 - val_loss: 0.0066 - 2s/epoch - 8ms/step\n",
            "Epoch 46/200\n",
            "236/236 - 2s - loss: 0.0062 - val_loss: 0.0052 - 2s/epoch - 8ms/step\n",
            "Epoch 47/200\n",
            "236/236 - 2s - loss: 0.0063 - val_loss: 0.0051 - 2s/epoch - 8ms/step\n",
            "Epoch 48/200\n",
            "236/236 - 2s - loss: 0.0063 - val_loss: 0.0049 - 2s/epoch - 9ms/step\n",
            "Epoch 49/200\n",
            "236/236 - 2s - loss: 0.0056 - val_loss: 0.0058 - 2s/epoch - 8ms/step\n",
            "Epoch 50/200\n",
            "236/236 - 2s - loss: 0.0059 - val_loss: 0.0058 - 2s/epoch - 8ms/step\n",
            "Epoch 51/200\n",
            "236/236 - 2s - loss: 0.0062 - val_loss: 0.0056 - 2s/epoch - 8ms/step\n",
            "Epoch 52/200\n",
            "236/236 - 2s - loss: 0.0061 - val_loss: 0.0049 - 2s/epoch - 8ms/step\n",
            "Epoch 53/200\n",
            "236/236 - 2s - loss: 0.0059 - val_loss: 0.0050 - 2s/epoch - 8ms/step\n",
            "Epoch 54/200\n",
            "236/236 - 2s - loss: 0.0064 - val_loss: 0.0051 - 2s/epoch - 8ms/step\n",
            "Epoch 55/200\n",
            "236/236 - 2s - loss: 0.0057 - val_loss: 0.0054 - 2s/epoch - 8ms/step\n",
            "Epoch 56/200\n",
            "236/236 - 2s - loss: 0.0060 - val_loss: 0.0054 - 2s/epoch - 8ms/step\n",
            "Epoch 57/200\n",
            "236/236 - 2s - loss: 0.0059 - val_loss: 0.0050 - 2s/epoch - 8ms/step\n",
            "Epoch 58/200\n",
            "236/236 - 2s - loss: 0.0061 - val_loss: 0.0052 - 2s/epoch - 8ms/step\n",
            "Epoch 59/200\n",
            "236/236 - 2s - loss: 0.0059 - val_loss: 0.0056 - 2s/epoch - 9ms/step\n",
            "Epoch 60/200\n",
            "236/236 - 2s - loss: 0.0057 - val_loss: 0.0050 - 2s/epoch - 8ms/step\n",
            "Epoch 61/200\n",
            "236/236 - 2s - loss: 0.0059 - val_loss: 0.0056 - 2s/epoch - 8ms/step\n",
            "Epoch 62/200\n",
            "236/236 - 2s - loss: 0.0060 - val_loss: 0.0058 - 2s/epoch - 9ms/step\n",
            "Epoch 63/200\n",
            "236/236 - 2s - loss: 0.0063 - val_loss: 0.0050 - 2s/epoch - 8ms/step\n",
            "Epoch 64/200\n",
            "236/236 - 2s - loss: 0.0059 - val_loss: 0.0061 - 2s/epoch - 8ms/step\n",
            "Epoch 65/200\n",
            "236/236 - 2s - loss: 0.0059 - val_loss: 0.0053 - 2s/epoch - 8ms/step\n",
            "Epoch 66/200\n",
            "236/236 - 2s - loss: 0.0057 - val_loss: 0.0056 - 2s/epoch - 8ms/step\n",
            "Epoch 67/200\n",
            "236/236 - 2s - loss: 0.0061 - val_loss: 0.0049 - 2s/epoch - 9ms/step\n",
            "Epoch 68/200\n",
            "236/236 - 2s - loss: 0.0061 - val_loss: 0.0051 - 2s/epoch - 8ms/step\n",
            "Epoch 69/200\n",
            "236/236 - 2s - loss: 0.0063 - val_loss: 0.0049 - 2s/epoch - 8ms/step\n",
            "Epoch 70/200\n",
            "236/236 - 2s - loss: 0.0062 - val_loss: 0.0058 - 2s/epoch - 9ms/step\n",
            "Epoch 71/200\n",
            "236/236 - 2s - loss: 0.0056 - val_loss: 0.0049 - 2s/epoch - 8ms/step\n",
            "Epoch 72/200\n",
            "236/236 - 2s - loss: 0.0056 - val_loss: 0.0049 - 2s/epoch - 8ms/step\n",
            "Epoch 73/200\n",
            "236/236 - 2s - loss: 0.0059 - val_loss: 0.0051 - 2s/epoch - 9ms/step\n",
            "Epoch 74/200\n",
            "236/236 - 2s - loss: 0.0059 - val_loss: 0.0051 - 2s/epoch - 9ms/step\n",
            "Epoch 75/200\n",
            "236/236 - 2s - loss: 0.0063 - val_loss: 0.0051 - 2s/epoch - 8ms/step\n",
            "Epoch 76/200\n",
            "236/236 - 2s - loss: 0.0060 - val_loss: 0.0052 - 2s/epoch - 8ms/step\n",
            "Epoch 77/200\n",
            "236/236 - 2s - loss: 0.0060 - val_loss: 0.0050 - 2s/epoch - 8ms/step\n",
            "Epoch 78/200\n",
            "236/236 - 2s - loss: 0.0058 - val_loss: 0.0049 - 2s/epoch - 8ms/step\n",
            "Epoch 79/200\n",
            "236/236 - 2s - loss: 0.0057 - val_loss: 0.0050 - 2s/epoch - 8ms/step\n",
            "Epoch 80/200\n",
            "236/236 - 2s - loss: 0.0061 - val_loss: 0.0058 - 2s/epoch - 8ms/step\n",
            "Epoch 81/200\n",
            "236/236 - 2s - loss: 0.0060 - val_loss: 0.0051 - 2s/epoch - 9ms/step\n",
            "Epoch 82/200\n",
            "236/236 - 2s - loss: 0.0056 - val_loss: 0.0053 - 2s/epoch - 8ms/step\n",
            "Epoch 83/200\n",
            "236/236 - 2s - loss: 0.0064 - val_loss: 0.0049 - 2s/epoch - 8ms/step\n",
            "Epoch 84/200\n",
            "236/236 - 2s - loss: 0.0058 - val_loss: 0.0059 - 2s/epoch - 8ms/step\n",
            "Epoch 85/200\n",
            "236/236 - 2s - loss: 0.0062 - val_loss: 0.0050 - 2s/epoch - 8ms/step\n",
            "Epoch 86/200\n",
            "236/236 - 2s - loss: 0.0057 - val_loss: 0.0054 - 2s/epoch - 8ms/step\n",
            "Epoch 87/200\n",
            "236/236 - 2s - loss: 0.0060 - val_loss: 0.0054 - 2s/epoch - 8ms/step\n",
            "Epoch 88/200\n",
            "236/236 - 2s - loss: 0.0059 - val_loss: 0.0050 - 2s/epoch - 8ms/step\n",
            "Epoch 89/200\n",
            "236/236 - 2s - loss: 0.0060 - val_loss: 0.0051 - 2s/epoch - 8ms/step\n",
            "Epoch 90/200\n",
            "236/236 - 2s - loss: 0.0059 - val_loss: 0.0050 - 2s/epoch - 8ms/step\n",
            "Epoch 91/200\n",
            "236/236 - 2s - loss: 0.0057 - val_loss: 0.0055 - 2s/epoch - 8ms/step\n",
            "Epoch 92/200\n",
            "236/236 - 2s - loss: 0.0060 - val_loss: 0.0053 - 2s/epoch - 8ms/step\n",
            "Epoch 93/200\n",
            "236/236 - 2s - loss: 0.0056 - val_loss: 0.0050 - 2s/epoch - 8ms/step\n",
            "Epoch 94/200\n",
            "236/236 - 2s - loss: 0.0060 - val_loss: 0.0052 - 2s/epoch - 8ms/step\n",
            "Epoch 95/200\n",
            "236/236 - 2s - loss: 0.0058 - val_loss: 0.0052 - 2s/epoch - 8ms/step\n",
            "Epoch 96/200\n",
            "236/236 - 2s - loss: 0.0057 - val_loss: 0.0052 - 2s/epoch - 8ms/step\n",
            "Epoch 97/200\n",
            "236/236 - 2s - loss: 0.0060 - val_loss: 0.0055 - 2s/epoch - 8ms/step\n",
            "Epoch 98/200\n",
            "236/236 - 2s - loss: 0.0057 - val_loss: 0.0050 - 2s/epoch - 8ms/step\n",
            "Epoch 99/200\n",
            "236/236 - 2s - loss: 0.0061 - val_loss: 0.0050 - 2s/epoch - 8ms/step\n",
            "Epoch 100/200\n",
            "236/236 - 2s - loss: 0.0058 - val_loss: 0.0054 - 2s/epoch - 8ms/step\n",
            "Epoch 101/200\n",
            "236/236 - 2s - loss: 0.0059 - val_loss: 0.0049 - 2s/epoch - 8ms/step\n",
            "Epoch 102/200\n",
            "236/236 - 2s - loss: 0.0060 - val_loss: 0.0051 - 2s/epoch - 8ms/step\n",
            "Epoch 103/200\n",
            "236/236 - 2s - loss: 0.0060 - val_loss: 0.0050 - 2s/epoch - 8ms/step\n",
            "Epoch 104/200\n",
            "236/236 - 2s - loss: 0.0059 - val_loss: 0.0050 - 2s/epoch - 8ms/step\n",
            "Epoch 105/200\n",
            "236/236 - 2s - loss: 0.0059 - val_loss: 0.0049 - 2s/epoch - 8ms/step\n",
            "Epoch 106/200\n",
            "236/236 - 2s - loss: 0.0059 - val_loss: 0.0051 - 2s/epoch - 8ms/step\n",
            "Epoch 107/200\n",
            "236/236 - 2s - loss: 0.0056 - val_loss: 0.0050 - 2s/epoch - 9ms/step\n",
            "Epoch 108/200\n",
            "236/236 - 2s - loss: 0.0058 - val_loss: 0.0049 - 2s/epoch - 9ms/step\n",
            "Epoch 109/200\n",
            "236/236 - 2s - loss: 0.0059 - val_loss: 0.0049 - 2s/epoch - 9ms/step\n",
            "Epoch 110/200\n",
            "236/236 - 2s - loss: 0.0058 - val_loss: 0.0051 - 2s/epoch - 8ms/step\n",
            "Epoch 111/200\n",
            "236/236 - 2s - loss: 0.0058 - val_loss: 0.0053 - 2s/epoch - 8ms/step\n",
            "Epoch 112/200\n",
            "236/236 - 2s - loss: 0.0060 - val_loss: 0.0078 - 2s/epoch - 8ms/step\n",
            "Epoch 113/200\n",
            "236/236 - 2s - loss: 0.0057 - val_loss: 0.0053 - 2s/epoch - 8ms/step\n",
            "Epoch 114/200\n",
            "236/236 - 2s - loss: 0.0058 - val_loss: 0.0051 - 2s/epoch - 8ms/step\n",
            "Epoch 115/200\n",
            "236/236 - 2s - loss: 0.0057 - val_loss: 0.0054 - 2s/epoch - 8ms/step\n",
            "Epoch 116/200\n",
            "236/236 - 2s - loss: 0.0059 - val_loss: 0.0055 - 2s/epoch - 8ms/step\n",
            "Epoch 117/200\n",
            "236/236 - 2s - loss: 0.0057 - val_loss: 0.0052 - 2s/epoch - 8ms/step\n",
            "Epoch 118/200\n",
            "236/236 - 2s - loss: 0.0058 - val_loss: 0.0050 - 2s/epoch - 8ms/step\n",
            "Epoch 119/200\n",
            "236/236 - 2s - loss: 0.0057 - val_loss: 0.0055 - 2s/epoch - 8ms/step\n",
            "Epoch 120/200\n",
            "236/236 - 2s - loss: 0.0056 - val_loss: 0.0049 - 2s/epoch - 8ms/step\n",
            "Epoch 121/200\n",
            "236/236 - 2s - loss: 0.0057 - val_loss: 0.0053 - 2s/epoch - 8ms/step\n",
            "Epoch 122/200\n",
            "236/236 - 2s - loss: 0.0059 - val_loss: 0.0051 - 2s/epoch - 8ms/step\n",
            "Epoch 123/200\n",
            "236/236 - 2s - loss: 0.0057 - val_loss: 0.0050 - 2s/epoch - 8ms/step\n",
            "Epoch 124/200\n",
            "236/236 - 2s - loss: 0.0059 - val_loss: 0.0050 - 2s/epoch - 9ms/step\n",
            "Epoch 125/200\n",
            "236/236 - 2s - loss: 0.0060 - val_loss: 0.0055 - 2s/epoch - 8ms/step\n",
            "Epoch 126/200\n",
            "236/236 - 2s - loss: 0.0057 - val_loss: 0.0049 - 2s/epoch - 9ms/step\n",
            "Epoch 127/200\n",
            "236/236 - 2s - loss: 0.0057 - val_loss: 0.0051 - 2s/epoch - 8ms/step\n",
            "Epoch 128/200\n",
            "236/236 - 2s - loss: 0.0057 - val_loss: 0.0050 - 2s/epoch - 8ms/step\n",
            "Epoch 129/200\n",
            "236/236 - 2s - loss: 0.0057 - val_loss: 0.0055 - 2s/epoch - 8ms/step\n",
            "Epoch 130/200\n",
            "236/236 - 2s - loss: 0.0056 - val_loss: 0.0050 - 2s/epoch - 8ms/step\n",
            "Epoch 131/200\n",
            "236/236 - 2s - loss: 0.0059 - val_loss: 0.0050 - 2s/epoch - 8ms/step\n",
            "Epoch 132/200\n",
            "236/236 - 2s - loss: 0.0055 - val_loss: 0.0049 - 2s/epoch - 9ms/step\n",
            "Epoch 133/200\n",
            "236/236 - 2s - loss: 0.0058 - val_loss: 0.0051 - 2s/epoch - 8ms/step\n",
            "Epoch 134/200\n",
            "236/236 - 2s - loss: 0.0055 - val_loss: 0.0052 - 2s/epoch - 8ms/step\n",
            "Epoch 135/200\n",
            "236/236 - 2s - loss: 0.0058 - val_loss: 0.0050 - 2s/epoch - 9ms/step\n",
            "Epoch 136/200\n",
            "236/236 - 2s - loss: 0.0056 - val_loss: 0.0049 - 2s/epoch - 8ms/step\n",
            "Epoch 137/200\n",
            "236/236 - 2s - loss: 0.0061 - val_loss: 0.0051 - 2s/epoch - 8ms/step\n",
            "Epoch 138/200\n",
            "236/236 - 2s - loss: 0.0058 - val_loss: 0.0049 - 2s/epoch - 8ms/step\n",
            "Epoch 139/200\n",
            "236/236 - 2s - loss: 0.0057 - val_loss: 0.0050 - 2s/epoch - 8ms/step\n",
            "Epoch 140/200\n",
            "236/236 - 2s - loss: 0.0056 - val_loss: 0.0053 - 2s/epoch - 8ms/step\n",
            "Epoch 141/200\n",
            "236/236 - 2s - loss: 0.0058 - val_loss: 0.0049 - 2s/epoch - 8ms/step\n",
            "Epoch 142/200\n",
            "236/236 - 2s - loss: 0.0059 - val_loss: 0.0049 - 2s/epoch - 8ms/step\n",
            "Epoch 143/200\n",
            "236/236 - 2s - loss: 0.0054 - val_loss: 0.0052 - 2s/epoch - 8ms/step\n",
            "Epoch 144/200\n",
            "236/236 - 2s - loss: 0.0055 - val_loss: 0.0052 - 2s/epoch - 8ms/step\n",
            "Epoch 145/200\n",
            "236/236 - 2s - loss: 0.0057 - val_loss: 0.0062 - 2s/epoch - 8ms/step\n",
            "Epoch 146/200\n",
            "236/236 - 2s - loss: 0.0057 - val_loss: 0.0059 - 2s/epoch - 9ms/step\n",
            "Epoch 147/200\n",
            "236/236 - 2s - loss: 0.0057 - val_loss: 0.0061 - 2s/epoch - 9ms/step\n",
            "Epoch 148/200\n",
            "236/236 - 2s - loss: 0.0061 - val_loss: 0.0050 - 2s/epoch - 9ms/step\n",
            "Epoch 149/200\n",
            "236/236 - 2s - loss: 0.0058 - val_loss: 0.0049 - 2s/epoch - 8ms/step\n",
            "Epoch 150/200\n",
            "236/236 - 2s - loss: 0.0057 - val_loss: 0.0050 - 2s/epoch - 8ms/step\n",
            "Epoch 151/200\n",
            "236/236 - 2s - loss: 0.0059 - val_loss: 0.0053 - 2s/epoch - 8ms/step\n",
            "Epoch 152/200\n",
            "236/236 - 2s - loss: 0.0055 - val_loss: 0.0050 - 2s/epoch - 8ms/step\n",
            "Epoch 153/200\n",
            "236/236 - 2s - loss: 0.0054 - val_loss: 0.0053 - 2s/epoch - 8ms/step\n",
            "Epoch 154/200\n",
            "236/236 - 2s - loss: 0.0054 - val_loss: 0.0056 - 2s/epoch - 8ms/step\n",
            "Epoch 155/200\n",
            "236/236 - 2s - loss: 0.0058 - val_loss: 0.0049 - 2s/epoch - 9ms/step\n",
            "Epoch 156/200\n",
            "236/236 - 2s - loss: 0.0058 - val_loss: 0.0049 - 2s/epoch - 8ms/step\n",
            "Epoch 157/200\n",
            "236/236 - 2s - loss: 0.0056 - val_loss: 0.0049 - 2s/epoch - 9ms/step\n",
            "Epoch 158/200\n",
            "236/236 - 2s - loss: 0.0057 - val_loss: 0.0050 - 2s/epoch - 8ms/step\n",
            "Epoch 159/200\n",
            "236/236 - 2s - loss: 0.0056 - val_loss: 0.0050 - 2s/epoch - 8ms/step\n",
            "Epoch 160/200\n",
            "236/236 - 2s - loss: 0.0056 - val_loss: 0.0051 - 2s/epoch - 9ms/step\n",
            "Epoch 161/200\n",
            "236/236 - 2s - loss: 0.0056 - val_loss: 0.0061 - 2s/epoch - 8ms/step\n",
            "Epoch 162/200\n",
            "236/236 - 2s - loss: 0.0057 - val_loss: 0.0055 - 2s/epoch - 8ms/step\n",
            "Epoch 163/200\n",
            "236/236 - 2s - loss: 0.0059 - val_loss: 0.0064 - 2s/epoch - 8ms/step\n",
            "Epoch 164/200\n",
            "236/236 - 2s - loss: 0.0057 - val_loss: 0.0056 - 2s/epoch - 8ms/step\n",
            "Epoch 165/200\n",
            "236/236 - 2s - loss: 0.0056 - val_loss: 0.0049 - 2s/epoch - 8ms/step\n",
            "Epoch 166/200\n",
            "236/236 - 2s - loss: 0.0056 - val_loss: 0.0053 - 2s/epoch - 8ms/step\n",
            "Epoch 167/200\n",
            "236/236 - 2s - loss: 0.0058 - val_loss: 0.0054 - 2s/epoch - 9ms/step\n",
            "Epoch 168/200\n",
            "236/236 - 2s - loss: 0.0055 - val_loss: 0.0050 - 2s/epoch - 8ms/step\n",
            "Epoch 169/200\n",
            "236/236 - 2s - loss: 0.0056 - val_loss: 0.0049 - 2s/epoch - 8ms/step\n",
            "Epoch 170/200\n",
            "236/236 - 2s - loss: 0.0057 - val_loss: 0.0053 - 2s/epoch - 8ms/step\n",
            "Epoch 171/200\n",
            "236/236 - 2s - loss: 0.0055 - val_loss: 0.0051 - 2s/epoch - 9ms/step\n",
            "Epoch 172/200\n",
            "236/236 - 2s - loss: 0.0053 - val_loss: 0.0051 - 2s/epoch - 8ms/step\n",
            "Epoch 173/200\n",
            "236/236 - 2s - loss: 0.0058 - val_loss: 0.0053 - 2s/epoch - 8ms/step\n",
            "Epoch 174/200\n",
            "236/236 - 2s - loss: 0.0056 - val_loss: 0.0053 - 2s/epoch - 8ms/step\n",
            "Epoch 175/200\n",
            "236/236 - 2s - loss: 0.0057 - val_loss: 0.0051 - 2s/epoch - 8ms/step\n",
            "Epoch 176/200\n",
            "236/236 - 2s - loss: 0.0057 - val_loss: 0.0056 - 2s/epoch - 8ms/step\n",
            "Epoch 177/200\n",
            "236/236 - 2s - loss: 0.0058 - val_loss: 0.0053 - 2s/epoch - 8ms/step\n",
            "Epoch 178/200\n",
            "236/236 - 2s - loss: 0.0054 - val_loss: 0.0049 - 2s/epoch - 9ms/step\n",
            "Epoch 179/200\n",
            "236/236 - 2s - loss: 0.0060 - val_loss: 0.0057 - 2s/epoch - 8ms/step\n",
            "Epoch 180/200\n",
            "236/236 - 2s - loss: 0.0060 - val_loss: 0.0050 - 2s/epoch - 8ms/step\n",
            "Epoch 181/200\n",
            "236/236 - 2s - loss: 0.0056 - val_loss: 0.0051 - 2s/epoch - 8ms/step\n",
            "Epoch 182/200\n",
            "236/236 - 2s - loss: 0.0056 - val_loss: 0.0053 - 2s/epoch - 9ms/step\n",
            "Epoch 183/200\n",
            "236/236 - 2s - loss: 0.0056 - val_loss: 0.0053 - 2s/epoch - 8ms/step\n",
            "Epoch 184/200\n",
            "236/236 - 2s - loss: 0.0052 - val_loss: 0.0054 - 2s/epoch - 8ms/step\n",
            "Epoch 185/200\n",
            "236/236 - 2s - loss: 0.0055 - val_loss: 0.0050 - 2s/epoch - 9ms/step\n",
            "Epoch 186/200\n",
            "236/236 - 2s - loss: 0.0058 - val_loss: 0.0051 - 2s/epoch - 8ms/step\n",
            "Epoch 187/200\n",
            "236/236 - 2s - loss: 0.0055 - val_loss: 0.0049 - 2s/epoch - 8ms/step\n",
            "Epoch 188/200\n",
            "236/236 - 2s - loss: 0.0055 - val_loss: 0.0050 - 2s/epoch - 8ms/step\n",
            "Epoch 189/200\n",
            "236/236 - 2s - loss: 0.0055 - val_loss: 0.0052 - 2s/epoch - 8ms/step\n",
            "Epoch 190/200\n",
            "236/236 - 2s - loss: 0.0056 - val_loss: 0.0051 - 2s/epoch - 8ms/step\n",
            "Epoch 191/200\n",
            "236/236 - 2s - loss: 0.0056 - val_loss: 0.0055 - 2s/epoch - 8ms/step\n",
            "Epoch 192/200\n",
            "236/236 - 2s - loss: 0.0054 - val_loss: 0.0050 - 2s/epoch - 8ms/step\n",
            "Epoch 193/200\n",
            "236/236 - 2s - loss: 0.0059 - val_loss: 0.0052 - 2s/epoch - 8ms/step\n",
            "Epoch 194/200\n",
            "236/236 - 2s - loss: 0.0055 - val_loss: 0.0051 - 2s/epoch - 9ms/step\n",
            "Epoch 195/200\n",
            "236/236 - 2s - loss: 0.0058 - val_loss: 0.0050 - 2s/epoch - 8ms/step\n",
            "Epoch 196/200\n",
            "236/236 - 2s - loss: 0.0060 - val_loss: 0.0051 - 2s/epoch - 9ms/step\n",
            "Epoch 197/200\n",
            "236/236 - 2s - loss: 0.0058 - val_loss: 0.0054 - 2s/epoch - 8ms/step\n",
            "Epoch 198/200\n",
            "236/236 - 2s - loss: 0.0055 - val_loss: 0.0051 - 2s/epoch - 8ms/step\n",
            "Epoch 199/200\n",
            "236/236 - 2s - loss: 0.0056 - val_loss: 0.0061 - 2s/epoch - 9ms/step\n",
            "Epoch 200/200\n",
            "236/236 - 2s - loss: 0.0057 - val_loss: 0.0050 - 2s/epoch - 8ms/step\n"
          ]
        }
      ]
    },
    {
      "cell_type": "code",
      "source": [
        "#plt.figure(figsize=(16,8))\n",
        "plt.plot(validation.history['loss'], label='Training loss')\n",
        "plt.plot(validation.history['val_loss'], label='Validation loss')\n",
        "plt.legend()\n",
        "plt.title('Validação e Performace do algoritmo LSTM')"
      ],
      "metadata": {
        "id": "uTPHh-3aA0vK",
        "colab": {
          "base_uri": "https://localhost:8080/",
          "height": 299
        },
        "outputId": "3da655f9-353d-472c-e2d4-a557f3d7479a"
      },
      "execution_count": null,
      "outputs": [
        {
          "output_type": "execute_result",
          "data": {
            "text/plain": [
              "Text(0.5, 1.0, 'Validação e Performace do algoritmo LSTM')"
            ]
          },
          "metadata": {},
          "execution_count": 39
        },
        {
          "output_type": "display_data",
          "data": {
            "text/plain": [
              "<Figure size 432x288 with 1 Axes>"
            ],
            "image/png": "[encoded data removed]"
          },
          "metadata": {}
        }
      ]
    },
    {
      "cell_type": "code",
      "source": [
        "#Fazendo previsao\n",
        "\n",
        "prev = model.predict(X_test)\n",
        "prev = scaler.inverse_transform(prev) #removo a normalizacao\n",
        "prev # precos previstos"
      ],
      "metadata": {
        "colab": {
          "base_uri": "https://localhost:8080/"
        },
        "id": "yw_1y1YCeJvB",
        "outputId": "17ff13e1-c0b3-4279-f92d-de72033a84e9"
      },
      "execution_count": null,
      "outputs": [
        {
          "output_type": "execute_result",
          "data": {
            "text/plain": [
              "array([[ 9.48246 ],\n",
              "       [ 9.752691],\n",
              "       [ 9.319664],\n",
              "       ...,\n",
              "       [33.032143],\n",
              "       [32.42496 ],\n",
              "       [32.39816 ]], dtype=float32)"
            ]
          },
          "metadata": {},
          "execution_count": 22
        }
      ]
    },
    {
      "cell_type": "code",
      "source": [
        "#previsão para os proximos 10 dias\n",
        "\n",
        "lenght_test = len(test)\n",
        "lenght_test"
      ],
      "metadata": {
        "colab": {
          "base_uri": "https://localhost:8080/"
        },
        "id": "YK3Utma7eKrV",
        "outputId": "04a18627-3dc8-4e45-862b-14902054e668"
      },
      "execution_count": null,
      "outputs": [
        {
          "output_type": "execute_result",
          "data": {
            "text/plain": [
              "1523"
            ]
          },
          "metadata": {},
          "execution_count": 23
        }
      ]
    },
    {
      "cell_type": "code",
      "source": [
        "#pegar os ultimos dias que são o tamanho do meu step - 15 dias\n",
        "\n",
        "days_input_steps = lenght_test - steps\n",
        "days_input_steps"
      ],
      "metadata": {
        "colab": {
          "base_uri": "https://localhost:8080/"
        },
        "id": "dmIra1ADeKxa",
        "outputId": "b12a30f1-aaa6-4e10-d581-865b74b817b5"
      },
      "execution_count": null,
      "outputs": [
        {
          "output_type": "execute_result",
          "data": {
            "text/plain": [
              "1508"
            ]
          },
          "metadata": {},
          "execution_count": 24
        }
      ]
    },
    {
      "cell_type": "code",
      "source": [
        "#transforma em array\n",
        "\n",
        "input_steps = test[days_input_steps:]\n",
        "input_steps = np.array(input_steps).reshape(1,-1)\n",
        "input_steps # informacao usada para prever os 10 dias a frente\n",
        "#utilizamos os 15 dias para trás para prever os proximos 10 dias a frente"
      ],
      "metadata": {
        "colab": {
          "base_uri": "https://localhost:8080/"
        },
        "id": "XkMS98nkeK3m",
        "outputId": "75959176-7715-426e-87cf-85468a7fb39a"
      },
      "execution_count": null,
      "outputs": [
        {
          "output_type": "execute_result",
          "data": {
            "text/plain": [
              "array([[1.20255691, 1.15205386, 1.14644241, 1.14644241, 1.16888821,\n",
              "        1.17113279, 1.13746409, 1.16776592, 1.37202268, 1.36528894,\n",
              "        1.48312937, 1.38212328, 1.4135474 , 1.54036615, 1.56954569]])"
            ]
          },
          "metadata": {},
          "execution_count": 25
        }
      ]
    },
    {
      "cell_type": "code",
      "source": [
        "#transformar em lista\n",
        "\n",
        "list_output_steps = list(input_steps)\n",
        "list_output_steps = list_output_steps[0].tolist()\n",
        "list_output_steps"
      ],
      "metadata": {
        "colab": {
          "base_uri": "https://localhost:8080/"
        },
        "id": "ntHKCWH9eSYy",
        "outputId": "9fc97fc9-ce88-48d0-c903-6f4689ed29c1"
      },
      "execution_count": null,
      "outputs": [
        {
          "output_type": "execute_result",
          "data": {
            "text/plain": [
              "[1.202556906378153,\n",
              " 1.1520538626689925,\n",
              " 1.1464424133679745,\n",
              " 1.1464424133679745,\n",
              " 1.1688882105720462,\n",
              " 1.1711327902924533,\n",
              " 1.1374640944863463,\n",
              " 1.1677659207118425,\n",
              " 1.3720226752688915,\n",
              " 1.3652889361076699,\n",
              " 1.4831293714290448,\n",
              " 1.3821232840107232,\n",
              " 1.4135474000964232,\n",
              " 1.5403661542994265,\n",
              " 1.569545690664719]"
            ]
          },
          "metadata": {},
          "execution_count": 26
        }
      ]
    },
    {
      "cell_type": "code",
      "source": [
        "#loop para prever os proximos 10 dias\n",
        "\n",
        "pred_output = []\n",
        "i = 0\n",
        "n_future = 10\n",
        "\n",
        "while (i < n_future):\n",
        "    \n",
        "    if (len(list_output_steps) > steps):\n",
        "        input_steps = np.array(list_output_steps[1:])\n",
        "        print(\"{} dia. Valores de entrada -> {}\".format(i,input_steps))\n",
        "        input_steps = input_steps.reshape(1,-1)\n",
        "        input_steps = input_steps.reshape((1, steps, 1))\n",
        "        #print(input_steps)\n",
        "        pred = model.predict(input_steps, verbose = 0)\n",
        "        print(\"{} dia. Valor previsto -> {}\".format(i, pred))\n",
        "        list_output_steps.extend(pred[0].tolist())\n",
        "        list_output_steps = list_output_steps[1:]\n",
        "        #print(list_output_steps)\n",
        "        pred_output.extend(pred.tolist())\n",
        "        i = i + 1\n",
        "    else:\n",
        "        input_steps = input_steps.reshape((1, steps, 1))\n",
        "        pred = model.predict(input_steps, verbose = 0)\n",
        "        print(pred[0])\n",
        "        list_output_steps.extend(pred[0].tolist())\n",
        "        print(len(list_output_steps))\n",
        "        pred_output.extend(pred.tolist())\n",
        "        i = i + 1\n",
        "\n",
        "print(pred_output)"
      ],
      "metadata": {
        "colab": {
          "base_uri": "https://localhost:8080/"
        },
        "id": "gMk-HYeIwjgH",
        "outputId": "fcb5761d-9edb-49a1-f92b-baf1acfcbcec"
      },
      "execution_count": null,
      "outputs": [
        {
          "output_type": "stream",
          "name": "stdout",
          "text": [
            "[1.5710591]\n",
            "16\n",
            "1 dia. Valores de entrada -> [1.15205386 1.14644241 1.14644241 1.16888821 1.17113279 1.13746409\n",
            " 1.16776592 1.37202268 1.36528894 1.48312937 1.38212328 1.4135474\n",
            " 1.54036615 1.56954569 1.57105911]\n",
            "1 dia. Valor previsto -> [[1.5640305]]\n",
            "2 dia. Valores de entrada -> [1.14644241 1.14644241 1.16888821 1.17113279 1.13746409 1.16776592\n",
            " 1.37202268 1.36528894 1.48312937 1.38212328 1.4135474  1.54036615\n",
            " 1.56954569 1.57105911 1.56403053]\n",
            "2 dia. Valor previsto -> [[1.5865592]]\n",
            "3 dia. Valores de entrada -> [1.14644241 1.16888821 1.17113279 1.13746409 1.16776592 1.37202268\n",
            " 1.36528894 1.48312937 1.38212328 1.4135474  1.54036615 1.56954569\n",
            " 1.57105911 1.56403053 1.58655918]\n",
            "3 dia. Valor previsto -> [[1.6061594]]\n",
            "4 dia. Valores de entrada -> [1.16888821 1.17113279 1.13746409 1.16776592 1.37202268 1.36528894\n",
            " 1.48312937 1.38212328 1.4135474  1.54036615 1.56954569 1.57105911\n",
            " 1.56403053 1.58655918 1.60615945]\n",
            "4 dia. Valor previsto -> [[1.6159724]]\n",
            "5 dia. Valores de entrada -> [1.17113279 1.13746409 1.16776592 1.37202268 1.36528894 1.48312937\n",
            " 1.38212328 1.4135474  1.54036615 1.56954569 1.57105911 1.56403053\n",
            " 1.58655918 1.60615945 1.6159724 ]\n",
            "5 dia. Valor previsto -> [[1.6270343]]\n",
            "6 dia. Valores de entrada -> [1.13746409 1.16776592 1.37202268 1.36528894 1.48312937 1.38212328\n",
            " 1.4135474  1.54036615 1.56954569 1.57105911 1.56403053 1.58655918\n",
            " 1.60615945 1.6159724  1.62703431]\n",
            "6 dia. Valor previsto -> [[1.6418139]]\n",
            "7 dia. Valores de entrada -> [1.16776592 1.37202268 1.36528894 1.48312937 1.38212328 1.4135474\n",
            " 1.54036615 1.56954569 1.57105911 1.56403053 1.58655918 1.60615945\n",
            " 1.6159724  1.62703431 1.64181387]\n",
            "7 dia. Valor previsto -> [[1.6573021]]\n",
            "8 dia. Valores de entrada -> [1.37202268 1.36528894 1.48312937 1.38212328 1.4135474  1.54036615\n",
            " 1.56954569 1.57105911 1.56403053 1.58655918 1.60615945 1.6159724\n",
            " 1.62703431 1.64181387 1.65730214]\n",
            "8 dia. Valor previsto -> [[1.6717719]]\n",
            "9 dia. Valores de entrada -> [1.36528894 1.48312937 1.38212328 1.4135474  1.54036615 1.56954569\n",
            " 1.57105911 1.56403053 1.58655918 1.60615945 1.6159724  1.62703431\n",
            " 1.64181387 1.65730214 1.67177188]\n",
            "9 dia. Valor previsto -> [[1.686255]]\n",
            "[[1.5710591077804565], [1.5640305280685425], [1.5865591764450073], [1.6061594486236572], [1.6159723997116089], [1.627034306526184], [1.64181387424469], [1.6573021411895752], [1.6717718839645386], [1.6862549781799316]]\n"
          ]
        }
      ]
    },
    {
      "cell_type": "code",
      "source": [
        "#transformar a saida\n",
        "\n",
        "prev = scaler.inverse_transform(pred_output)\n",
        "prev = np.array(prev).reshape(1, -1)\n",
        "list_output_prev = list(prev)\n",
        "list_output_prev = prev[0].tolist()\n",
        "list_output_prev"
      ],
      "metadata": {
        "colab": {
          "base_uri": "https://localhost:8080/"
        },
        "id": "V6GawJpigMKn",
        "outputId": "b4794f38-9460-4a66-edd0-05599630ba7a"
      },
      "execution_count": null,
      "outputs": [
        {
          "output_type": "execute_result",
          "data": {
            "text/plain": [
              "[33.84348508232502,\n",
              " 33.78085794863034,\n",
              " 33.981596181909744,\n",
              " 34.15624154647799,\n",
              " 34.243678414937015,\n",
              " 34.342243921111766,\n",
              " 34.47393510217461,\n",
              " 34.61194104425873,\n",
              " 34.740871575381405,\n",
              " 34.86992107256536]"
            ]
          },
          "metadata": {},
          "execution_count": 28
        }
      ]
    },
    {
      "cell_type": "code",
      "source": [
        "#pegar as datas de previsão \n",
        "\n",
        "dates = pd.to_datetime(df['data_pregao'])\n",
        "predict_dates = pd.date_range(list(dates)[-1] + pd.DateOffset(1), periods = 10, freq='b').tolist() #freq b = dias bussins\n",
        "predict_dates "
      ],
      "metadata": {
        "colab": {
          "base_uri": "https://localhost:8080/"
        },
        "id": "tiVxatMCgMWE",
        "outputId": "109a9d43-7a23-4388-ee2c-f3aa39d57871"
      },
      "execution_count": null,
      "outputs": [
        {
          "output_type": "execute_result",
          "data": {
            "text/plain": [
              "[Timestamp('2022-05-13 00:00:00', freq='B'),\n",
              " Timestamp('2022-05-16 00:00:00', freq='B'),\n",
              " Timestamp('2022-05-17 00:00:00', freq='B'),\n",
              " Timestamp('2022-05-18 00:00:00', freq='B'),\n",
              " Timestamp('2022-05-19 00:00:00', freq='B'),\n",
              " Timestamp('2022-05-20 00:00:00', freq='B'),\n",
              " Timestamp('2022-05-23 00:00:00', freq='B'),\n",
              " Timestamp('2022-05-24 00:00:00', freq='B'),\n",
              " Timestamp('2022-05-25 00:00:00', freq='B'),\n",
              " Timestamp('2022-05-26 00:00:00', freq='B')]"
            ]
          },
          "metadata": {},
          "execution_count": 29
        }
      ]
    },
    {
      "cell_type": "code",
      "source": [
        "#cria dataframe de previsao\n",
        "\n",
        "forecast_dates = []\n",
        "for i in predict_dates:\n",
        "    forecast_dates.append(i.date())\n",
        "    \n",
        "df_forecast = pd.DataFrame({'data_pregao': np.array(forecast_dates), 'preco_fechamento': list_output_prev})\n",
        "df_forecast['data_pregao'] = pd.to_datetime(df_forecast['data_pregao'])\n",
        "\n",
        "df_forecast = df_forecast.set_index(pd.DatetimeIndex(df_forecast['data_pregao'].values))\n",
        "df_forecast = df_forecast[df_forecast['data_pregao'] > '2022-04-01']\n",
        "df_forecast.drop('data_pregao', axis = 1, inplace = True)\n",
        "df_forecast"
      ],
      "metadata": {
        "colab": {
          "base_uri": "https://localhost:8080/",
          "height": 363
        },
        "id": "_iwoE1HlgMZA",
        "outputId": "d0c23111-da29-482e-e0e1-832bdb16ca92"
      },
      "execution_count": null,
      "outputs": [
        {
          "output_type": "execute_result",
          "data": {
            "text/plain": [
              "            preco_fechamento\n",
              "2022-05-13         33.843485\n",
              "2022-05-16         33.780858\n",
              "2022-05-17         33.981596\n",
              "2022-05-18         34.156242\n",
              "2022-05-19         34.243678\n",
              "2022-05-20         34.342244\n",
              "2022-05-23         34.473935\n",
              "2022-05-24         34.611941\n",
              "2022-05-25         34.740872\n",
              "2022-05-26         34.869921"
            ],
            "text/html": [
              "\n",
              "  <div id=\"df-49d3e37d-6066-411e-bd64-d0dc107fdd79\">\n",
              "    <div class=\"colab-df-container\">\n",
              "      <div>\n",
              "<style scoped>\n",
              "    .dataframe tbody tr th:only-of-type {\n",
              "        vertical-align: middle;\n",
              "    }\n",
              "\n",
              "    .dataframe tbody tr th {\n",
              "        vertical-align: top;\n",
              "    }\n",
              "\n",
              "    .dataframe thead th {\n",
              "        text-align: right;\n",
              "    }\n",
              "</style>\n",
              "<table border=\"1\" class=\"dataframe\">\n",
              "  <thead>\n",
              "    <tr style=\"text-align: right;\">\n",
              "      <th></th>\n",
              "      <th>preco_fechamento</th>\n",
              "    </tr>\n",
              "  </thead>\n",
              "  <tbody>\n",
              "    <tr>\n",
              "      <th>2022-05-13</th>\n",
              "      <td>33.843485</td>\n",
              "    </tr>\n",
              "    <tr>\n",
              "      <th>2022-05-16</th>\n",
              "      <td>33.780858</td>\n",
              "    </tr>\n",
              "    <tr>\n",
              "      <th>2022-05-17</th>\n",
              "      <td>33.981596</td>\n",
              "    </tr>\n",
              "    <tr>\n",
              "      <th>2022-05-18</th>\n",
              "      <td>34.156242</td>\n",
              "    </tr>\n",
              "    <tr>\n",
              "      <th>2022-05-19</th>\n",
              "      <td>34.243678</td>\n",
              "    </tr>\n",
              "    <tr>\n",
              "      <th>2022-05-20</th>\n",
              "      <td>34.342244</td>\n",
              "    </tr>\n",
              "    <tr>\n",
              "      <th>2022-05-23</th>\n",
              "      <td>34.473935</td>\n",
              "    </tr>\n",
              "    <tr>\n",
              "      <th>2022-05-24</th>\n",
              "      <td>34.611941</td>\n",
              "    </tr>\n",
              "    <tr>\n",
              "      <th>2022-05-25</th>\n",
              "      <td>34.740872</td>\n",
              "    </tr>\n",
              "    <tr>\n",
              "      <th>2022-05-26</th>\n",
              "      <td>34.869921</td>\n",
              "    </tr>\n",
              "  </tbody>\n",
              "</table>\n",
              "</div>\n",
              "      <button class=\"colab-df-convert\" onclick=\"convertToInteractive('df-49d3e37d-6066-411e-bd64-d0dc107fdd79')\"\n",
              "              title=\"Convert this dataframe to an interactive table.\"\n",
              "              style=\"display:none;\">\n",
              "        \n",
              "  <svg xmlns=\"http://www.w3.org/2000/svg\" height=\"24px\"viewBox=\"0 0 24 24\"\n",
              "       width=\"24px\">\n",
              "    <path d=\"M0 0h24v24H0V0z\" fill=\"none\"/>\n",
              "    <path d=\"M18.56 5.44l.94 2.06.94-2.06 2.06-.94-2.06-.94-.94-2.06-.94 2.06-2.06.94zm-11 1L8.5 8.5l.94-2.06 2.06-.94-2.06-.94L8.5 2.5l-.94 2.06-2.06.94zm10 10l.94 2.06.94-2.06 2.06-.94-2.06-.94-.94-2.06-.94 2.06-2.06.94z\"/><path d=\"M17.41 7.96l-1.37-1.37c-.4-.4-.92-.59-1.43-.59-.52 0-1.04.2-1.43.59L10.3 9.45l-7.72 7.72c-.78.78-.78 2.05 0 2.83L4 21.41c.39.39.9.59 1.41.59.51 0 1.02-.2 1.41-.59l7.78-7.78 2.81-2.81c.8-.78.8-2.07 0-2.86zM5.41 20L4 18.59l7.72-7.72 1.47 1.35L5.41 20z\"/>\n",
              "  </svg>\n",
              "      </button>\n",
              "      \n",
              "  <style>\n",
              "    .colab-df-container {\n",
              "      display:flex;\n",
              "      flex-wrap:wrap;\n",
              "      gap: 12px;\n",
              "    }\n",
              "\n",
              "    .colab-df-convert {\n",
              "      background-color: #E8F0FE;\n",
              "      border: none;\n",
              "      border-radius: 50%;\n",
              "      cursor: pointer;\n",
              "      display: none;\n",
              "      fill: #1967D2;\n",
              "      height: 32px;\n",
              "      padding: 0 0 0 0;\n",
              "      width: 32px;\n",
              "    }\n",
              "\n",
              "    .colab-df-convert:hover {\n",
              "      background-color: #E2EBFA;\n",
              "      box-shadow: 0px 1px 2px rgba(60, 64, 67, 0.3), 0px 1px 3px 1px rgba(60, 64, 67, 0.15);\n",
              "      fill: #174EA6;\n",
              "    }\n",
              "\n",
              "    [theme=dark] .colab-df-convert {\n",
              "      background-color: #3B4455;\n",
              "      fill: #D2E3FC;\n",
              "    }\n",
              "\n",
              "    [theme=dark] .colab-df-convert:hover {\n",
              "      background-color: #434B5C;\n",
              "      box-shadow: 0px 1px 3px 1px rgba(0, 0, 0, 0.15);\n",
              "      filter: drop-shadow(0px 1px 2px rgba(0, 0, 0, 0.3));\n",
              "      fill: #FFFFFF;\n",
              "    }\n",
              "  </style>\n",
              "\n",
              "      <script>\n",
              "        const buttonEl =\n",
              "          document.querySelector('#df-49d3e37d-6066-411e-bd64-d0dc107fdd79 button.colab-df-convert');\n",
              "        buttonEl.style.display =\n",
              "          google.colab.kernel.accessAllowed ? 'block' : 'none';\n",
              "\n",
              "        async function convertToInteractive(key) {\n",
              "          const element = document.querySelector('#df-49d3e37d-6066-411e-bd64-d0dc107fdd79');\n",
              "          const dataTable =\n",
              "            await google.colab.kernel.invokeFunction('convertToInteractive',\n",
              "                                                     [key], {});\n",
              "          if (!dataTable) return;\n",
              "\n",
              "          const docLinkHtml = 'Like what you see? Visit the ' +\n",
              "            '<a target=\"_blank\" href=https://colab.research.google.com/notebooks/data_table.ipynb>data table notebook</a>'\n",
              "            + ' to learn more about interactive tables.';\n",
              "          element.innerHTML = '';\n",
              "          dataTable['output_type'] = 'display_data';\n",
              "          await google.colab.output.renderOutput(dataTable, element);\n",
              "          const docLink = document.createElement('div');\n",
              "          docLink.innerHTML = docLinkHtml;\n",
              "          element.appendChild(docLink);\n",
              "        }\n",
              "      </script>\n",
              "    </div>\n",
              "  </div>\n",
              "  "
            ]
          },
          "metadata": {},
          "execution_count": 30
        }
      ]
    },
    {
      "cell_type": "code",
      "source": [
        "df_acao_fec = df[['data_pregao', 'preco_fechamento']]\n",
        "df_acao_fec = df_acao_fec.set_index(pd.DatetimeIndex(df_acao_fec['data_pregao'].values))\n",
        "df_acao_fec = df_acao_fec[df_acao_fec['data_pregao'] > '2022-01-01']\n",
        "df_acao_fec.drop('data_pregao', axis=1, inplace=True)\n",
        "df_acao_fec"
      ],
      "metadata": {
        "colab": {
          "base_uri": "https://localhost:8080/",
          "height": 424
        },
        "id": "W2FCyR7FlDMZ",
        "outputId": "2167b902-229d-4233-db58-3829e83e18fa"
      },
      "execution_count": null,
      "outputs": [
        {
          "output_type": "execute_result",
          "data": {
            "text/plain": [
              "            preco_fechamento\n",
              "2022-01-03             29.09\n",
              "2022-01-04             29.20\n",
              "2022-01-05             28.07\n",
              "2022-01-06             28.05\n",
              "2022-01-07             28.18\n",
              "...                      ...\n",
              "2022-05-06             33.06\n",
              "2022-05-09             32.16\n",
              "2022-05-10             32.44\n",
              "2022-05-11             33.57\n",
              "2022-05-12             33.83\n",
              "\n",
              "[90 rows x 1 columns]"
            ],
            "text/html": [
              "\n",
              "  <div id=\"df-f985d297-61e8-4075-912f-fe6e526c9272\">\n",
              "    <div class=\"colab-df-container\">\n",
              "      <div>\n",
              "<style scoped>\n",
              "    .dataframe tbody tr th:only-of-type {\n",
              "        vertical-align: middle;\n",
              "    }\n",
              "\n",
              "    .dataframe tbody tr th {\n",
              "        vertical-align: top;\n",
              "    }\n",
              "\n",
              "    .dataframe thead th {\n",
              "        text-align: right;\n",
              "    }\n",
              "</style>\n",
              "<table border=\"1\" class=\"dataframe\">\n",
              "  <thead>\n",
              "    <tr style=\"text-align: right;\">\n",
              "      <th></th>\n",
              "      <th>preco_fechamento</th>\n",
              "    </tr>\n",
              "  </thead>\n",
              "  <tbody>\n",
              "    <tr>\n",
              "      <th>2022-01-03</th>\n",
              "      <td>29.09</td>\n",
              "    </tr>\n",
              "    <tr>\n",
              "      <th>2022-01-04</th>\n",
              "      <td>29.20</td>\n",
              "    </tr>\n",
              "    <tr>\n",
              "      <th>2022-01-05</th>\n",
              "      <td>28.07</td>\n",
              "    </tr>\n",
              "    <tr>\n",
              "      <th>2022-01-06</th>\n",
              "      <td>28.05</td>\n",
              "    </tr>\n",
              "    <tr>\n",
              "      <th>2022-01-07</th>\n",
              "      <td>28.18</td>\n",
              "    </tr>\n",
              "    <tr>\n",
              "      <th>...</th>\n",
              "      <td>...</td>\n",
              "    </tr>\n",
              "    <tr>\n",
              "      <th>2022-05-06</th>\n",
              "      <td>33.06</td>\n",
              "    </tr>\n",
              "    <tr>\n",
              "      <th>2022-05-09</th>\n",
              "      <td>32.16</td>\n",
              "    </tr>\n",
              "    <tr>\n",
              "      <th>2022-05-10</th>\n",
              "      <td>32.44</td>\n",
              "    </tr>\n",
              "    <tr>\n",
              "      <th>2022-05-11</th>\n",
              "      <td>33.57</td>\n",
              "    </tr>\n",
              "    <tr>\n",
              "      <th>2022-05-12</th>\n",
              "      <td>33.83</td>\n",
              "    </tr>\n",
              "  </tbody>\n",
              "</table>\n",
              "<p>90 rows × 1 columns</p>\n",
              "</div>\n",
              "      <button class=\"colab-df-convert\" onclick=\"convertToInteractive('df-f985d297-61e8-4075-912f-fe6e526c9272')\"\n",
              "              title=\"Convert this dataframe to an interactive table.\"\n",
              "              style=\"display:none;\">\n",
              "        \n",
              "  <svg xmlns=\"http://www.w3.org/2000/svg\" height=\"24px\"viewBox=\"0 0 24 24\"\n",
              "       width=\"24px\">\n",
              "    <path d=\"M0 0h24v24H0V0z\" fill=\"none\"/>\n",
              "    <path d=\"M18.56 5.44l.94 2.06.94-2.06 2.06-.94-2.06-.94-.94-2.06-.94 2.06-2.06.94zm-11 1L8.5 8.5l.94-2.06 2.06-.94-2.06-.94L8.5 2.5l-.94 2.06-2.06.94zm10 10l.94 2.06.94-2.06 2.06-.94-2.06-.94-.94-2.06-.94 2.06-2.06.94z\"/><path d=\"M17.41 7.96l-1.37-1.37c-.4-.4-.92-.59-1.43-.59-.52 0-1.04.2-1.43.59L10.3 9.45l-7.72 7.72c-.78.78-.78 2.05 0 2.83L4 21.41c.39.39.9.59 1.41.59.51 0 1.02-.2 1.41-.59l7.78-7.78 2.81-2.81c.8-.78.8-2.07 0-2.86zM5.41 20L4 18.59l7.72-7.72 1.47 1.35L5.41 20z\"/>\n",
              "  </svg>\n",
              "      </button>\n",
              "      \n",
              "  <style>\n",
              "    .colab-df-container {\n",
              "      display:flex;\n",
              "      flex-wrap:wrap;\n",
              "      gap: 12px;\n",
              "    }\n",
              "\n",
              "    .colab-df-convert {\n",
              "      background-color: #E8F0FE;\n",
              "      border: none;\n",
              "      border-radius: 50%;\n",
              "      cursor: pointer;\n",
              "      display: none;\n",
              "      fill: #1967D2;\n",
              "      height: 32px;\n",
              "      padding: 0 0 0 0;\n",
              "      width: 32px;\n",
              "    }\n",
              "\n",
              "    .colab-df-convert:hover {\n",
              "      background-color: #E2EBFA;\n",
              "      box-shadow: 0px 1px 2px rgba(60, 64, 67, 0.3), 0px 1px 3px 1px rgba(60, 64, 67, 0.15);\n",
              "      fill: #174EA6;\n",
              "    }\n",
              "\n",
              "    [theme=dark] .colab-df-convert {\n",
              "      background-color: #3B4455;\n",
              "      fill: #D2E3FC;\n",
              "    }\n",
              "\n",
              "    [theme=dark] .colab-df-convert:hover {\n",
              "      background-color: #434B5C;\n",
              "      box-shadow: 0px 1px 3px 1px rgba(0, 0, 0, 0.15);\n",
              "      filter: drop-shadow(0px 1px 2px rgba(0, 0, 0, 0.3));\n",
              "      fill: #FFFFFF;\n",
              "    }\n",
              "  </style>\n",
              "\n",
              "      <script>\n",
              "        const buttonEl =\n",
              "          document.querySelector('#df-f985d297-61e8-4075-912f-fe6e526c9272 button.colab-df-convert');\n",
              "        buttonEl.style.display =\n",
              "          google.colab.kernel.accessAllowed ? 'block' : 'none';\n",
              "\n",
              "        async function convertToInteractive(key) {\n",
              "          const element = document.querySelector('#df-f985d297-61e8-4075-912f-fe6e526c9272');\n",
              "          const dataTable =\n",
              "            await google.colab.kernel.invokeFunction('convertToInteractive',\n",
              "                                                     [key], {});\n",
              "          if (!dataTable) return;\n",
              "\n",
              "          const docLinkHtml = 'Like what you see? Visit the ' +\n",
              "            '<a target=\"_blank\" href=https://colab.research.google.com/notebooks/data_table.ipynb>data table notebook</a>'\n",
              "            + ' to learn more about interactive tables.';\n",
              "          element.innerHTML = '';\n",
              "          dataTable['output_type'] = 'display_data';\n",
              "          await google.colab.output.renderOutput(dataTable, element);\n",
              "          const docLink = document.createElement('div');\n",
              "          docLink.innerHTML = docLinkHtml;\n",
              "          element.appendChild(docLink);\n",
              "        }\n",
              "      </script>\n",
              "    </div>\n",
              "  </div>\n",
              "  "
            ]
          },
          "metadata": {},
          "execution_count": 31
        }
      ]
    },
    {
      "cell_type": "code",
      "source": [
        "#plotar o grafico\n",
        "\n",
        "#plt.figure(figsize=(16,8))\n",
        "plt.plot(df_acao_fec['preco_fechamento'], label='Preço de Fechamento')\n",
        "plt.plot(df_forecast['preco_fechamento'], label='Preço Previsto')\n",
        "plt.legend()\n",
        "plt.title('Previsão de 10 dias da ação PETR4.SA')\n"
      ],
      "metadata": {
        "colab": {
          "base_uri": "https://localhost:8080/",
          "height": 299
        },
        "id": "di4dTJtVgMbx",
        "outputId": "c86b8d16-14fb-4b06-d5a9-13e19f271b64"
      },
      "execution_count": null,
      "outputs": [
        {
          "output_type": "execute_result",
          "data": {
            "text/plain": [
              "Text(0.5, 1.0, 'Previsão de 10 dias da ação PETR4.SA')"
            ]
          },
          "metadata": {},
          "execution_count": 40
        },
        {
          "output_type": "display_data",
          "data": {
            "text/plain": [
              "<Figure size 432x288 with 1 Axes>"
            ],
            "image/png": "[encoded data removed]"
          },
          "metadata": {}
        }
      ]
    },
    {
      "cell_type": "markdown",
      "source": [],
      "metadata": {
        "id": "aoMvFhwOi2Th"
      }
    }
  ]
}